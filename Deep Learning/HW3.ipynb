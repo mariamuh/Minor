{
  "cells": [
    {
      "cell_type": "markdown",
      "metadata": {
        "id": "sdwwxjAQFXfw"
      },
      "source": [
        "<center><img src=\"https://github.com/hse-ds/iad-applied-ds/blob/master/2021/hw/hw1/img/logo_hse.png?raw=1\" width=\"1000\"></center>\n",
        "\n",
        "<h1><center>Прикладные задачи анализа данных</center></h1>\n",
        "<h2><center>Домашнее задание 3: Прогнозирование временных рядов</center></h2>"
      ]
    },
    {
      "cell_type": "markdown",
      "metadata": {
        "id": "7YFkvK6vFXf9"
      },
      "source": [
        "# Введение\n",
        "\n",
        "В этом задании Вам предстоит разобраться с основами анализа и прогнозирования временных рядов. \n",
        "\n",
        "\n",
        "![image](https://imgs.xkcd.com/comics/extrapolating.png)"
      ]
    },
    {
      "cell_type": "code",
      "execution_count": null,
      "metadata": {
        "id": "DPQ9427wjLeX",
        "colab": {
          "base_uri": "https://localhost:8080/",
          "height": 1000
        },
        "outputId": "b177a87a-a417-4333-f765-3271d5b46de9"
      },
      "outputs": [
        {
          "output_type": "stream",
          "name": "stdout",
          "text": [
            "Collecting orbit-ml\n",
            "  Downloading orbit_ml-1.1.1-py3-none-any.whl (466 kB)\n",
            "\u001b[K     |████████████████████████████████| 466 kB 5.0 MB/s \n",
            "\u001b[?25hRequirement already satisfied: torch in /usr/local/lib/python3.7/dist-packages (from orbit-ml) (1.10.0+cu111)\n",
            "Requirement already satisfied: arviz in /usr/local/lib/python3.7/dist-packages (from orbit-ml) (0.12.0)\n",
            "Collecting statsmodels>=0.11.1\n",
            "  Downloading statsmodels-0.13.2-cp37-cp37m-manylinux_2_17_x86_64.manylinux2014_x86_64.whl (9.8 MB)\n",
            "\u001b[K     |████████████████████████████████| 9.8 MB 55.2 MB/s \n",
            "\u001b[?25hRequirement already satisfied: numpy>=1.18.2 in /usr/local/lib/python3.7/dist-packages (from orbit-ml) (1.21.6)\n",
            "Collecting matplotlib>=3.3.2\n",
            "  Downloading matplotlib-3.5.1-cp37-cp37m-manylinux_2_5_x86_64.manylinux1_x86_64.whl (11.2 MB)\n",
            "\u001b[K     |████████████████████████████████| 11.2 MB 42.4 MB/s \n",
            "\u001b[?25hRequirement already satisfied: scipy>=1.4.1 in /usr/local/lib/python3.7/dist-packages (from orbit-ml) (1.4.1)\n",
            "Requirement already satisfied: tqdm in /usr/local/lib/python3.7/dist-packages (from orbit-ml) (4.64.0)\n",
            "Collecting pyro-ppl>=1.4.0\n",
            "  Downloading pyro_ppl-1.8.1-py3-none-any.whl (718 kB)\n",
            "\u001b[K     |████████████████████████████████| 718 kB 57.0 MB/s \n",
            "\u001b[?25hRequirement already satisfied: pystan==2.19.1.1 in /usr/local/lib/python3.7/dist-packages (from orbit-ml) (2.19.1.1)\n",
            "Requirement already satisfied: seaborn>=0.10.0 in /usr/local/lib/python3.7/dist-packages (from orbit-ml) (0.11.2)\n",
            "Requirement already satisfied: pandas>=1.0.3 in /usr/local/lib/python3.7/dist-packages (from orbit-ml) (1.3.5)\n",
            "Requirement already satisfied: Cython!=0.25.1,>=0.22 in /usr/local/lib/python3.7/dist-packages (from pystan==2.19.1.1->orbit-ml) (0.29.28)\n",
            "Requirement already satisfied: packaging>=20.0 in /usr/local/lib/python3.7/dist-packages (from matplotlib>=3.3.2->orbit-ml) (21.3)\n",
            "Requirement already satisfied: pyparsing>=2.2.1 in /usr/local/lib/python3.7/dist-packages (from matplotlib>=3.3.2->orbit-ml) (3.0.8)\n",
            "Collecting fonttools>=4.22.0\n",
            "  Downloading fonttools-4.33.2-py3-none-any.whl (930 kB)\n",
            "\u001b[K     |████████████████████████████████| 930 kB 53.7 MB/s \n",
            "\u001b[?25hRequirement already satisfied: pillow>=6.2.0 in /usr/local/lib/python3.7/dist-packages (from matplotlib>=3.3.2->orbit-ml) (7.1.2)\n",
            "Requirement already satisfied: cycler>=0.10 in /usr/local/lib/python3.7/dist-packages (from matplotlib>=3.3.2->orbit-ml) (0.11.0)\n",
            "Requirement already satisfied: python-dateutil>=2.7 in /usr/local/lib/python3.7/dist-packages (from matplotlib>=3.3.2->orbit-ml) (2.8.2)\n",
            "Requirement already satisfied: kiwisolver>=1.0.1 in /usr/local/lib/python3.7/dist-packages (from matplotlib>=3.3.2->orbit-ml) (1.4.2)\n",
            "Requirement already satisfied: typing-extensions in /usr/local/lib/python3.7/dist-packages (from kiwisolver>=1.0.1->matplotlib>=3.3.2->orbit-ml) (4.1.1)\n",
            "Requirement already satisfied: pytz>=2017.3 in /usr/local/lib/python3.7/dist-packages (from pandas>=1.0.3->orbit-ml) (2022.1)\n",
            "Requirement already satisfied: opt-einsum>=2.3.2 in /usr/local/lib/python3.7/dist-packages (from pyro-ppl>=1.4.0->orbit-ml) (3.3.0)\n",
            "Collecting pyro-api>=0.1.1\n",
            "  Downloading pyro_api-0.1.2-py3-none-any.whl (11 kB)\n",
            "Collecting torch\n",
            "  Downloading torch-1.11.0-cp37-cp37m-manylinux1_x86_64.whl (750.6 MB)\n",
            "\u001b[K     |████████████████████████████████| 750.6 MB 8.6 kB/s \n",
            "\u001b[?25hRequirement already satisfied: six>=1.5 in /usr/local/lib/python3.7/dist-packages (from python-dateutil>=2.7->matplotlib>=3.3.2->orbit-ml) (1.15.0)\n",
            "Requirement already satisfied: patsy>=0.5.2 in /usr/local/lib/python3.7/dist-packages (from statsmodels>=0.11.1->orbit-ml) (0.5.2)\n",
            "Requirement already satisfied: setuptools>=38.4 in /usr/local/lib/python3.7/dist-packages (from arviz->orbit-ml) (57.4.0)\n",
            "Requirement already satisfied: xarray>=0.16.1 in /usr/local/lib/python3.7/dist-packages (from arviz->orbit-ml) (0.18.2)\n",
            "Requirement already satisfied: netcdf4 in /usr/local/lib/python3.7/dist-packages (from arviz->orbit-ml) (1.5.8)\n",
            "Requirement already satisfied: cftime in /usr/local/lib/python3.7/dist-packages (from netcdf4->arviz->orbit-ml) (1.6.0)\n",
            "Installing collected packages: fonttools, torch, pyro-api, matplotlib, statsmodels, pyro-ppl, orbit-ml\n",
            "  Attempting uninstall: torch\n",
            "    Found existing installation: torch 1.10.0+cu111\n",
            "    Uninstalling torch-1.10.0+cu111:\n",
            "      Successfully uninstalled torch-1.10.0+cu111\n",
            "  Attempting uninstall: matplotlib\n",
            "    Found existing installation: matplotlib 3.2.2\n",
            "    Uninstalling matplotlib-3.2.2:\n",
            "      Successfully uninstalled matplotlib-3.2.2\n",
            "  Attempting uninstall: statsmodels\n",
            "    Found existing installation: statsmodels 0.10.2\n",
            "    Uninstalling statsmodels-0.10.2:\n",
            "      Successfully uninstalled statsmodels-0.10.2\n",
            "\u001b[31mERROR: pip's dependency resolver does not currently take into account all the packages that are installed. This behaviour is the source of the following dependency conflicts.\n",
            "torchvision 0.11.1+cu111 requires torch==1.10.0, but you have torch 1.11.0 which is incompatible.\n",
            "torchtext 0.11.0 requires torch==1.10.0, but you have torch 1.11.0 which is incompatible.\n",
            "torchaudio 0.10.0+cu111 requires torch==1.10.0, but you have torch 1.11.0 which is incompatible.\n",
            "albumentations 0.1.12 requires imgaug<0.2.7,>=0.2.5, but you have imgaug 0.2.9 which is incompatible.\u001b[0m\n",
            "Successfully installed fonttools-4.33.2 matplotlib-3.5.1 orbit-ml-1.1.1 pyro-api-0.1.2 pyro-ppl-1.8.1 statsmodels-0.13.2 torch-1.11.0\n"
          ]
        },
        {
          "output_type": "display_data",
          "data": {
            "application/vnd.colab-display-data+json": {
              "pip_warning": {
                "packages": [
                  "matplotlib",
                  "mpl_toolkits",
                  "statsmodels"
                ]
              }
            }
          },
          "metadata": {}
        },
        {
          "output_type": "stream",
          "name": "stdout",
          "text": [
            "Collecting prophet\n",
            "  Downloading prophet-1.0.1.tar.gz (65 kB)\n",
            "\u001b[K     |████████████████████████████████| 65 kB 2.3 MB/s \n",
            "\u001b[?25hRequirement already satisfied: Cython>=0.22 in /usr/local/lib/python3.7/dist-packages (from prophet) (0.29.28)\n",
            "Collecting cmdstanpy==0.9.68\n",
            "  Downloading cmdstanpy-0.9.68-py3-none-any.whl (49 kB)\n",
            "\u001b[K     |████████████████████████████████| 49 kB 4.7 MB/s \n",
            "\u001b[?25hRequirement already satisfied: pystan~=2.19.1.1 in /usr/local/lib/python3.7/dist-packages (from prophet) (2.19.1.1)\n",
            "Requirement already satisfied: numpy>=1.15.4 in /usr/local/lib/python3.7/dist-packages (from prophet) (1.21.6)\n",
            "Requirement already satisfied: pandas>=1.0.4 in /usr/local/lib/python3.7/dist-packages (from prophet) (1.3.5)\n",
            "Requirement already satisfied: matplotlib>=2.0.0 in /usr/local/lib/python3.7/dist-packages (from prophet) (3.5.1)\n",
            "Requirement already satisfied: LunarCalendar>=0.0.9 in /usr/local/lib/python3.7/dist-packages (from prophet) (0.0.9)\n",
            "Requirement already satisfied: convertdate>=2.1.2 in /usr/local/lib/python3.7/dist-packages (from prophet) (2.4.0)\n",
            "Requirement already satisfied: holidays>=0.10.2 in /usr/local/lib/python3.7/dist-packages (from prophet) (0.10.5.2)\n",
            "Requirement already satisfied: setuptools-git>=1.2 in /usr/local/lib/python3.7/dist-packages (from prophet) (1.2)\n",
            "Requirement already satisfied: python-dateutil>=2.8.0 in /usr/local/lib/python3.7/dist-packages (from prophet) (2.8.2)\n",
            "Requirement already satisfied: tqdm>=4.36.1 in /usr/local/lib/python3.7/dist-packages (from prophet) (4.64.0)\n",
            "Collecting ujson\n",
            "  Downloading ujson-5.2.0-cp37-cp37m-manylinux_2_17_x86_64.manylinux2014_x86_64.whl (45 kB)\n",
            "\u001b[K     |████████████████████████████████| 45 kB 2.5 MB/s \n",
            "\u001b[?25hRequirement already satisfied: pymeeus<=1,>=0.3.13 in /usr/local/lib/python3.7/dist-packages (from convertdate>=2.1.2->prophet) (0.5.11)\n",
            "Requirement already satisfied: korean-lunar-calendar in /usr/local/lib/python3.7/dist-packages (from holidays>=0.10.2->prophet) (0.2.1)\n",
            "Requirement already satisfied: hijri-converter in /usr/local/lib/python3.7/dist-packages (from holidays>=0.10.2->prophet) (2.2.3)\n",
            "Requirement already satisfied: six in /usr/local/lib/python3.7/dist-packages (from holidays>=0.10.2->prophet) (1.15.0)\n",
            "Requirement already satisfied: pytz in /usr/local/lib/python3.7/dist-packages (from LunarCalendar>=0.0.9->prophet) (2022.1)\n",
            "Requirement already satisfied: ephem>=3.7.5.3 in /usr/local/lib/python3.7/dist-packages (from LunarCalendar>=0.0.9->prophet) (4.1.3)\n",
            "Requirement already satisfied: cycler>=0.10 in /usr/local/lib/python3.7/dist-packages (from matplotlib>=2.0.0->prophet) (0.11.0)\n",
            "Requirement already satisfied: pyparsing>=2.2.1 in /usr/local/lib/python3.7/dist-packages (from matplotlib>=2.0.0->prophet) (3.0.8)\n",
            "Requirement already satisfied: kiwisolver>=1.0.1 in /usr/local/lib/python3.7/dist-packages (from matplotlib>=2.0.0->prophet) (1.4.2)\n",
            "Requirement already satisfied: pillow>=6.2.0 in /usr/local/lib/python3.7/dist-packages (from matplotlib>=2.0.0->prophet) (7.1.2)\n",
            "Requirement already satisfied: packaging>=20.0 in /usr/local/lib/python3.7/dist-packages (from matplotlib>=2.0.0->prophet) (21.3)\n",
            "Requirement already satisfied: fonttools>=4.22.0 in /usr/local/lib/python3.7/dist-packages (from matplotlib>=2.0.0->prophet) (4.33.2)\n",
            "Requirement already satisfied: typing-extensions in /usr/local/lib/python3.7/dist-packages (from kiwisolver>=1.0.1->matplotlib>=2.0.0->prophet) (4.1.1)\n",
            "Building wheels for collected packages: prophet\n",
            "  Building wheel for prophet (setup.py) ... \u001b[?25l\u001b[?25hdone\n",
            "  Created wheel for prophet: filename=prophet-1.0.1-py3-none-any.whl size=6639341 sha256=8bb0a4e6c50d702ce71eb0cbf49a160399a977f96e61e1a017aadaf1d98746ce\n",
            "  Stored in directory: /root/.cache/pip/wheels/4e/a0/1a/02c9ec9e3e9de6bdbb3d769d11992a6926889d71567d6b9b67\n",
            "Successfully built prophet\n",
            "Installing collected packages: ujson, cmdstanpy, prophet\n",
            "  Attempting uninstall: cmdstanpy\n",
            "    Found existing installation: cmdstanpy 0.9.5\n",
            "    Uninstalling cmdstanpy-0.9.5:\n",
            "      Successfully uninstalled cmdstanpy-0.9.5\n",
            "\u001b[31mERROR: pip's dependency resolver does not currently take into account all the packages that are installed. This behaviour is the source of the following dependency conflicts.\n",
            "fbprophet 0.7.1 requires cmdstanpy==0.9.5, but you have cmdstanpy 0.9.68 which is incompatible.\u001b[0m\n",
            "Successfully installed cmdstanpy-0.9.68 prophet-1.0.1 ujson-5.2.0\n",
            "Collecting sktime[all_extras]\n",
            "  Downloading sktime-0.11.2-py3-none-any.whl (6.6 MB)\n",
            "\u001b[K     |████████████████████████████████| 6.6 MB 1.3 MB/s \n",
            "\u001b[?25hRequirement already satisfied: pandas<1.5.0,>=1.1.0 in /usr/local/lib/python3.7/dist-packages (from sktime[all_extras]) (1.3.5)\n",
            "Requirement already satisfied: statsmodels>=0.12.1 in /usr/local/lib/python3.7/dist-packages (from sktime[all_extras]) (0.13.2)\n",
            "Collecting numba>=0.53\n",
            "  Downloading numba-0.55.1-1-cp37-cp37m-manylinux2014_x86_64.manylinux_2_17_x86_64.whl (3.3 MB)\n",
            "\u001b[K     |████████████████████████████████| 3.3 MB 34.5 MB/s \n",
            "\u001b[?25hCollecting deprecated>=1.2.13\n",
            "  Downloading Deprecated-1.2.13-py2.py3-none-any.whl (9.6 kB)\n",
            "Requirement already satisfied: scikit-learn>=0.24.0 in /usr/local/lib/python3.7/dist-packages (from sktime[all_extras]) (1.0.2)\n",
            "Requirement already satisfied: numpy<1.22,>=1.21.0 in /usr/local/lib/python3.7/dist-packages (from sktime[all_extras]) (1.21.6)\n",
            "Requirement already satisfied: scipy<1.8.0 in /usr/local/lib/python3.7/dist-packages (from sktime[all_extras]) (1.4.1)\n",
            "Requirement already satisfied: tensorflow in /usr/local/lib/python3.7/dist-packages (from sktime[all_extras]) (2.8.0)\n",
            "Collecting hcrystalball>=0.1.9\n",
            "  Downloading hcrystalball-0.1.12-py2.py3-none-any.whl (788 kB)\n",
            "\u001b[K     |████████████████████████████████| 788 kB 57.3 MB/s \n",
            "\u001b[?25hRequirement already satisfied: matplotlib>=3.3.2 in /usr/local/lib/python3.7/dist-packages (from sktime[all_extras]) (3.5.1)\n",
            "Requirement already satisfied: tensorflow-probability in /usr/local/lib/python3.7/dist-packages (from sktime[all_extras]) (0.16.0)\n",
            "Collecting esig==0.9.7\n",
            "  Downloading esig-0.9.7-cp37-cp37m-manylinux2010_x86_64.whl (6.9 MB)\n",
            "\u001b[K     |████████████████████████████████| 6.9 MB 35.5 MB/s \n",
            "\u001b[?25hCollecting pmdarima!=1.8.1,>=1.8.0\n",
            "  Downloading pmdarima-1.8.5-cp37-cp37m-manylinux_2_17_x86_64.manylinux2014_x86_64.manylinux_2_24_x86_64.whl (1.4 MB)\n",
            "\u001b[K     |████████████████████████████████| 1.4 MB 57.3 MB/s \n",
            "\u001b[?25hCollecting tsfresh>=0.17.0\n",
            "  Downloading tsfresh-0.19.0-py2.py3-none-any.whl (97 kB)\n",
            "\u001b[K     |████████████████████████████████| 97 kB 6.1 MB/s \n",
            "\u001b[?25hCollecting tbats>=1.1.0\n",
            "  Downloading tbats-1.1.0-py3-none-any.whl (43 kB)\n",
            "\u001b[K     |████████████████████████████████| 43 kB 1.8 MB/s \n",
            "\u001b[?25hCollecting scikit-posthocs>=0.6.5\n",
            "  Downloading scikit-posthocs-0.6.7.tar.gz (43 kB)\n",
            "\u001b[K     |████████████████████████████████| 43 kB 1.1 MB/s \n",
            "\u001b[?25h  Installing build dependencies ... \u001b[?25l\u001b[?25hdone\n",
            "  Getting requirements to build wheel ... \u001b[?25l\u001b[?25hdone\n",
            "    Preparing wheel metadata ... \u001b[?25l\u001b[?25hdone\n",
            "Collecting tslearn>=0.5.2\n",
            "  Downloading tslearn-0.5.2-cp37-cp37m-manylinux_2_5_x86_64.manylinux1_x86_64.manylinux_2_12_x86_64.manylinux2010_x86_64.whl (793 kB)\n",
            "\u001b[K     |████████████████████████████████| 793 kB 53.0 MB/s \n",
            "\u001b[?25hRequirement already satisfied: prophet>=1.0 in /usr/local/lib/python3.7/dist-packages (from sktime[all_extras]) (1.0.1)\n",
            "Collecting statsforecast>=0.5.2\n",
            "  Downloading statsforecast-0.5.3-py3-none-any.whl (31 kB)\n",
            "Requirement already satisfied: pystan==2.19.1.1 in /usr/local/lib/python3.7/dist-packages (from sktime[all_extras]) (2.19.1.1)\n",
            "Collecting dtw-python\n",
            "  Downloading dtw_python-1.1.12-cp37-cp37m-manylinux2010_x86_64.whl (580 kB)\n",
            "\u001b[K     |████████████████████████████████| 580 kB 43.4 MB/s \n",
            "\u001b[?25hCollecting stumpy>=1.5.1\n",
            "  Downloading stumpy-1.11.1-py3-none-any.whl (136 kB)\n",
            "\u001b[K     |████████████████████████████████| 136 kB 55.7 MB/s \n",
            "\u001b[?25hRequirement already satisfied: seaborn>=0.11.0 in /usr/local/lib/python3.7/dist-packages (from sktime[all_extras]) (0.11.2)\n",
            "Collecting pyod>=0.8.0\n",
            "  Downloading pyod-1.0.0.tar.gz (118 kB)\n",
            "\u001b[K     |████████████████████████████████| 118 kB 29.0 MB/s \n",
            "\u001b[?25hRequirement already satisfied: Cython!=0.25.1,>=0.22 in /usr/local/lib/python3.7/dist-packages (from pystan==2.19.1.1->sktime[all_extras]) (0.29.28)\n",
            "Requirement already satisfied: wrapt<2,>=1.10 in /usr/local/lib/python3.7/dist-packages (from deprecated>=1.2.13->sktime[all_extras]) (1.14.0)\n",
            "Collecting workalendar>=10.1\n",
            "  Downloading workalendar-16.3.0-py3-none-any.whl (208 kB)\n",
            "\u001b[K     |████████████████████████████████| 208 kB 66.5 MB/s \n",
            "\u001b[?25hRequirement already satisfied: cycler>=0.10 in /usr/local/lib/python3.7/dist-packages (from matplotlib>=3.3.2->sktime[all_extras]) (0.11.0)\n",
            "Requirement already satisfied: fonttools>=4.22.0 in /usr/local/lib/python3.7/dist-packages (from matplotlib>=3.3.2->sktime[all_extras]) (4.33.2)\n",
            "Requirement already satisfied: packaging>=20.0 in /usr/local/lib/python3.7/dist-packages (from matplotlib>=3.3.2->sktime[all_extras]) (21.3)\n",
            "Requirement already satisfied: kiwisolver>=1.0.1 in /usr/local/lib/python3.7/dist-packages (from matplotlib>=3.3.2->sktime[all_extras]) (1.4.2)\n",
            "Requirement already satisfied: pyparsing>=2.2.1 in /usr/local/lib/python3.7/dist-packages (from matplotlib>=3.3.2->sktime[all_extras]) (3.0.8)\n",
            "Requirement already satisfied: python-dateutil>=2.7 in /usr/local/lib/python3.7/dist-packages (from matplotlib>=3.3.2->sktime[all_extras]) (2.8.2)\n",
            "Requirement already satisfied: pillow>=6.2.0 in /usr/local/lib/python3.7/dist-packages (from matplotlib>=3.3.2->sktime[all_extras]) (7.1.2)\n",
            "Requirement already satisfied: typing-extensions in /usr/local/lib/python3.7/dist-packages (from kiwisolver>=1.0.1->matplotlib>=3.3.2->sktime[all_extras]) (4.1.1)\n",
            "Collecting llvmlite<0.39,>=0.38.0rc1\n",
            "  Downloading llvmlite-0.38.0-cp37-cp37m-manylinux_2_17_x86_64.manylinux2014_x86_64.whl (34.5 MB)\n",
            "\u001b[K     |████████████████████████████████| 34.5 MB 18 kB/s \n",
            "\u001b[?25hRequirement already satisfied: setuptools in /usr/local/lib/python3.7/dist-packages (from numba>=0.53->sktime[all_extras]) (57.4.0)\n",
            "Requirement already satisfied: pytz>=2017.3 in /usr/local/lib/python3.7/dist-packages (from pandas<1.5.0,>=1.1.0->sktime[all_extras]) (2022.1)\n",
            "Requirement already satisfied: joblib>=0.11 in /usr/local/lib/python3.7/dist-packages (from pmdarima!=1.8.1,>=1.8.0->sktime[all_extras]) (1.1.0)\n",
            "Requirement already satisfied: urllib3 in /usr/local/lib/python3.7/dist-packages (from pmdarima!=1.8.1,>=1.8.0->sktime[all_extras]) (1.24.3)\n",
            "Requirement already satisfied: convertdate>=2.1.2 in /usr/local/lib/python3.7/dist-packages (from prophet>=1.0->sktime[all_extras]) (2.4.0)\n",
            "Requirement already satisfied: holidays>=0.10.2 in /usr/local/lib/python3.7/dist-packages (from prophet>=1.0->sktime[all_extras]) (0.10.5.2)\n",
            "Requirement already satisfied: tqdm>=4.36.1 in /usr/local/lib/python3.7/dist-packages (from prophet>=1.0->sktime[all_extras]) (4.64.0)\n",
            "Requirement already satisfied: cmdstanpy==0.9.68 in /usr/local/lib/python3.7/dist-packages (from prophet>=1.0->sktime[all_extras]) (0.9.68)\n",
            "Requirement already satisfied: LunarCalendar>=0.0.9 in /usr/local/lib/python3.7/dist-packages (from prophet>=1.0->sktime[all_extras]) (0.0.9)\n",
            "Requirement already satisfied: setuptools-git>=1.2 in /usr/local/lib/python3.7/dist-packages (from prophet>=1.0->sktime[all_extras]) (1.2)\n",
            "Requirement already satisfied: ujson in /usr/local/lib/python3.7/dist-packages (from cmdstanpy==0.9.68->prophet>=1.0->sktime[all_extras]) (5.2.0)\n",
            "Requirement already satisfied: pymeeus<=1,>=0.3.13 in /usr/local/lib/python3.7/dist-packages (from convertdate>=2.1.2->prophet>=1.0->sktime[all_extras]) (0.5.11)\n",
            "Requirement already satisfied: korean-lunar-calendar in /usr/local/lib/python3.7/dist-packages (from holidays>=0.10.2->prophet>=1.0->sktime[all_extras]) (0.2.1)\n",
            "Requirement already satisfied: six in /usr/local/lib/python3.7/dist-packages (from holidays>=0.10.2->prophet>=1.0->sktime[all_extras]) (1.15.0)\n",
            "Requirement already satisfied: hijri-converter in /usr/local/lib/python3.7/dist-packages (from holidays>=0.10.2->prophet>=1.0->sktime[all_extras]) (2.2.3)\n",
            "Requirement already satisfied: ephem>=3.7.5.3 in /usr/local/lib/python3.7/dist-packages (from LunarCalendar>=0.0.9->prophet>=1.0->sktime[all_extras]) (4.1.3)\n",
            "Requirement already satisfied: threadpoolctl>=2.0.0 in /usr/local/lib/python3.7/dist-packages (from scikit-learn>=0.24.0->sktime[all_extras]) (3.1.0)\n",
            "Requirement already satisfied: patsy>=0.5.2 in /usr/local/lib/python3.7/dist-packages (from statsmodels>=0.12.1->sktime[all_extras]) (0.5.2)\n",
            "Collecting scipy<1.8.0\n",
            "  Downloading scipy-1.7.3-cp37-cp37m-manylinux_2_12_x86_64.manylinux2010_x86_64.whl (38.1 MB)\n",
            "\u001b[K     |████████████████████████████████| 38.1 MB 135 kB/s \n",
            "\u001b[?25hRequirement already satisfied: requests>=2.9.1 in /usr/local/lib/python3.7/dist-packages (from tsfresh>=0.17.0->sktime[all_extras]) (2.23.0)\n",
            "Requirement already satisfied: cloudpickle in /usr/local/lib/python3.7/dist-packages (from tsfresh>=0.17.0->sktime[all_extras]) (1.3.0)\n",
            "Collecting distributed>=2.11.0\n",
            "  Downloading distributed-2022.2.0-py3-none-any.whl (837 kB)\n",
            "\u001b[K     |████████████████████████████████| 837 kB 62.7 MB/s \n",
            "\u001b[?25hCollecting matrixprofile<2.0.0,>=1.1.10\n",
            "  Downloading matrixprofile-1.1.10-cp37-cp37m-manylinux2010_x86_64.whl (1.1 MB)\n",
            "\u001b[K     |████████████████████████████████| 1.1 MB 56.3 MB/s \n",
            "\u001b[?25hRequirement already satisfied: dask[dataframe]>=2.9.0 in /usr/local/lib/python3.7/dist-packages (from tsfresh>=0.17.0->sktime[all_extras]) (2.12.0)\n",
            "Collecting partd>=0.3.10\n",
            "  Downloading partd-1.2.0-py3-none-any.whl (19 kB)\n",
            "Collecting fsspec>=0.6.0\n",
            "  Downloading fsspec-2022.3.0-py3-none-any.whl (136 kB)\n",
            "\u001b[K     |████████████████████████████████| 136 kB 73.2 MB/s \n",
            "\u001b[?25hRequirement already satisfied: toolz>=0.7.3 in /usr/local/lib/python3.7/dist-packages (from dask[dataframe]>=2.9.0->tsfresh>=0.17.0->sktime[all_extras]) (0.11.2)\n",
            "Requirement already satisfied: click>=6.6 in /usr/local/lib/python3.7/dist-packages (from distributed>=2.11.0->tsfresh>=0.17.0->sktime[all_extras]) (7.1.2)\n",
            "Requirement already satisfied: pyyaml in /usr/local/lib/python3.7/dist-packages (from distributed>=2.11.0->tsfresh>=0.17.0->sktime[all_extras]) (3.13)\n",
            "Collecting cloudpickle\n",
            "  Downloading cloudpickle-2.0.0-py3-none-any.whl (25 kB)\n",
            "Requirement already satisfied: sortedcontainers!=2.0.0,!=2.0.1 in /usr/local/lib/python3.7/dist-packages (from distributed>=2.11.0->tsfresh>=0.17.0->sktime[all_extras]) (2.4.0)\n",
            "Requirement already satisfied: tblib>=1.6.0 in /usr/local/lib/python3.7/dist-packages (from distributed>=2.11.0->tsfresh>=0.17.0->sktime[all_extras]) (1.7.0)\n",
            "Requirement already satisfied: msgpack>=0.6.0 in /usr/local/lib/python3.7/dist-packages (from distributed>=2.11.0->tsfresh>=0.17.0->sktime[all_extras]) (1.0.3)\n",
            "Collecting distributed>=2.11.0\n",
            "  Downloading distributed-2022.1.1-py3-none-any.whl (830 kB)\n",
            "\u001b[K     |████████████████████████████████| 830 kB 70.3 MB/s \n",
            "\u001b[?25h  Downloading distributed-2022.1.0-py3-none-any.whl (822 kB)\n",
            "\u001b[K     |████████████████████████████████| 822 kB 52.8 MB/s \n",
            "\u001b[?25h  Downloading distributed-2021.12.0-py3-none-any.whl (802 kB)\n",
            "\u001b[K     |████████████████████████████████| 802 kB 54.4 MB/s \n",
            "\u001b[?25h  Downloading distributed-2021.11.2-py3-none-any.whl (802 kB)\n",
            "\u001b[K     |████████████████████████████████| 802 kB 61.0 MB/s \n",
            "\u001b[?25h  Downloading distributed-2021.11.1-py3-none-any.whl (793 kB)\n",
            "\u001b[K     |████████████████████████████████| 793 kB 69.1 MB/s \n",
            "\u001b[?25hRequirement already satisfied: zict>=0.1.3 in /usr/local/lib/python3.7/dist-packages (from distributed>=2.11.0->tsfresh>=0.17.0->sktime[all_extras]) (2.1.0)\n",
            "  Downloading distributed-2021.11.0-py3-none-any.whl (793 kB)\n",
            "\u001b[K     |████████████████████████████████| 793 kB 66.4 MB/s \n",
            "\u001b[?25h  Downloading distributed-2021.10.0-py3-none-any.whl (791 kB)\n",
            "\u001b[K     |████████████████████████████████| 791 kB 36.0 MB/s \n",
            "\u001b[?25h  Downloading distributed-2021.9.1-py3-none-any.whl (786 kB)\n",
            "\u001b[K     |████████████████████████████████| 786 kB 55.1 MB/s \n",
            "\u001b[?25h  Downloading distributed-2021.9.0-py3-none-any.whl (779 kB)\n",
            "\u001b[K     |████████████████████████████████| 779 kB 55.6 MB/s \n",
            "\u001b[?25hRequirement already satisfied: psutil>=5.0 in /usr/local/lib/python3.7/dist-packages (from distributed>=2.11.0->tsfresh>=0.17.0->sktime[all_extras]) (5.4.8)\n",
            "Requirement already satisfied: jinja2 in /usr/local/lib/python3.7/dist-packages (from distributed>=2.11.0->tsfresh>=0.17.0->sktime[all_extras]) (2.11.3)\n",
            "Requirement already satisfied: tornado>=5 in /usr/local/lib/python3.7/dist-packages (from distributed>=2.11.0->tsfresh>=0.17.0->sktime[all_extras]) (5.1.1)\n",
            "  Downloading distributed-2021.8.1-py3-none-any.whl (778 kB)\n",
            "\u001b[K     |████████████████████████████████| 778 kB 45.5 MB/s \n",
            "\u001b[?25h  Downloading distributed-2021.8.0-py3-none-any.whl (776 kB)\n",
            "\u001b[K     |████████████████████████████████| 776 kB 49.8 MB/s \n",
            "\u001b[?25h  Downloading distributed-2021.7.2-py3-none-any.whl (769 kB)\n",
            "\u001b[K     |████████████████████████████████| 769 kB 56.3 MB/s \n",
            "\u001b[?25h  Downloading distributed-2021.7.1-py3-none-any.whl (766 kB)\n",
            "\u001b[K     |████████████████████████████████| 766 kB 56.9 MB/s \n",
            "\u001b[?25h  Downloading distributed-2021.7.0-py3-none-any.whl (1.0 MB)\n",
            "\u001b[K     |████████████████████████████████| 1.0 MB 55.3 MB/s \n",
            "\u001b[?25h  Downloading distributed-2021.6.2-py3-none-any.whl (722 kB)\n",
            "\u001b[K     |████████████████████████████████| 722 kB 41.9 MB/s \n",
            "\u001b[?25h  Downloading distributed-2021.6.1-py3-none-any.whl (722 kB)\n",
            "\u001b[K     |████████████████████████████████| 722 kB 58.5 MB/s \n",
            "\u001b[?25h  Downloading distributed-2021.6.0-py3-none-any.whl (715 kB)\n",
            "\u001b[K     |████████████████████████████████| 715 kB 46.9 MB/s \n",
            "\u001b[?25h  Downloading distributed-2021.5.1-py3-none-any.whl (705 kB)\n",
            "\u001b[K     |████████████████████████████████| 705 kB 57.0 MB/s \n",
            "\u001b[?25h  Downloading distributed-2021.5.0-py3-none-any.whl (699 kB)\n",
            "\u001b[K     |████████████████████████████████| 699 kB 68.9 MB/s \n",
            "\u001b[?25h  Downloading distributed-2021.4.1-py3-none-any.whl (696 kB)\n",
            "\u001b[K     |████████████████████████████████| 696 kB 56.0 MB/s \n",
            "\u001b[?25h  Downloading distributed-2021.4.0-py3-none-any.whl (684 kB)\n",
            "\u001b[K     |████████████████████████████████| 684 kB 39.6 MB/s \n",
            "\u001b[?25h  Downloading distributed-2021.3.1-py3-none-any.whl (679 kB)\n",
            "\u001b[K     |████████████████████████████████| 679 kB 54.6 MB/s \n",
            "\u001b[?25h  Downloading distributed-2021.3.0-py3-none-any.whl (675 kB)\n",
            "\u001b[K     |████████████████████████████████| 675 kB 51.8 MB/s \n",
            "\u001b[?25h  Downloading distributed-2021.2.0-py3-none-any.whl (675 kB)\n",
            "\u001b[K     |████████████████████████████████| 675 kB 54.2 MB/s \n",
            "\u001b[?25h  Downloading distributed-2021.1.1-py3-none-any.whl (672 kB)\n",
            "\u001b[K     |████████████████████████████████| 672 kB 58.1 MB/s \n",
            "\u001b[?25h  Downloading distributed-2021.1.0-py3-none-any.whl (671 kB)\n",
            "\u001b[K     |████████████████████████████████| 671 kB 55.7 MB/s \n",
            "\u001b[?25h  Downloading distributed-2020.12.0-py3-none-any.whl (669 kB)\n",
            "\u001b[K     |████████████████████████████████| 669 kB 2.0 MB/s \n",
            "\u001b[?25h  Downloading distributed-2.30.1-py3-none-any.whl (656 kB)\n",
            "\u001b[K     |████████████████████████████████| 656 kB 57.3 MB/s \n",
            "\u001b[?25hCollecting protobuf==3.11.2\n",
            "  Downloading protobuf-3.11.2-cp37-cp37m-manylinux1_x86_64.whl (1.3 MB)\n",
            "\u001b[K     |████████████████████████████████| 1.3 MB 54.5 MB/s \n",
            "\u001b[?25hCollecting locket\n",
            "  Downloading locket-1.0.0-py2.py3-none-any.whl (4.4 kB)\n",
            "Requirement already satisfied: certifi>=2017.4.17 in /usr/local/lib/python3.7/dist-packages (from requests>=2.9.1->tsfresh>=0.17.0->sktime[all_extras]) (2021.10.8)\n",
            "Requirement already satisfied: idna<3,>=2.5 in /usr/local/lib/python3.7/dist-packages (from requests>=2.9.1->tsfresh>=0.17.0->sktime[all_extras]) (2.10)\n",
            "Requirement already satisfied: chardet<4,>=3.0.2 in /usr/local/lib/python3.7/dist-packages (from requests>=2.9.1->tsfresh>=0.17.0->sktime[all_extras]) (3.0.4)\n",
            "Collecting lunardate\n",
            "  Downloading lunardate-0.2.0-py3-none-any.whl (5.6 kB)\n",
            "Requirement already satisfied: importlib-metadata in /usr/local/lib/python3.7/dist-packages (from workalendar>=10.1->hcrystalball>=0.1.9->sktime[all_extras]) (4.11.3)\n",
            "Collecting backports.zoneinfo\n",
            "  Downloading backports.zoneinfo-0.2.1-cp37-cp37m-manylinux1_x86_64.whl (70 kB)\n",
            "\u001b[K     |████████████████████████████████| 70 kB 6.0 MB/s \n",
            "\u001b[?25hCollecting pyluach\n",
            "  Downloading pyluach-1.4.1-py3-none-any.whl (18 kB)\n",
            "Requirement already satisfied: heapdict in /usr/local/lib/python3.7/dist-packages (from zict>=0.1.3->distributed>=2.11.0->tsfresh>=0.17.0->sktime[all_extras]) (1.0.1)\n",
            "Requirement already satisfied: zipp>=0.5 in /usr/local/lib/python3.7/dist-packages (from importlib-metadata->workalendar>=10.1->hcrystalball>=0.1.9->sktime[all_extras]) (3.8.0)\n",
            "Requirement already satisfied: keras-preprocessing>=1.1.1 in /usr/local/lib/python3.7/dist-packages (from tensorflow->sktime[all_extras]) (1.1.2)\n",
            "Requirement already satisfied: astunparse>=1.6.0 in /usr/local/lib/python3.7/dist-packages (from tensorflow->sktime[all_extras]) (1.6.3)\n",
            "Requirement already satisfied: keras<2.9,>=2.8.0rc0 in /usr/local/lib/python3.7/dist-packages (from tensorflow->sktime[all_extras]) (2.8.0)\n",
            "Requirement already satisfied: tensorflow-io-gcs-filesystem>=0.23.1 in /usr/local/lib/python3.7/dist-packages (from tensorflow->sktime[all_extras]) (0.24.0)\n",
            "Requirement already satisfied: flatbuffers>=1.12 in /usr/local/lib/python3.7/dist-packages (from tensorflow->sktime[all_extras]) (2.0)\n",
            "Requirement already satisfied: google-pasta>=0.1.1 in /usr/local/lib/python3.7/dist-packages (from tensorflow->sktime[all_extras]) (0.2.0)\n",
            "Requirement already satisfied: absl-py>=0.4.0 in /usr/local/lib/python3.7/dist-packages (from tensorflow->sktime[all_extras]) (1.0.0)\n",
            "Requirement already satisfied: libclang>=9.0.1 in /usr/local/lib/python3.7/dist-packages (from tensorflow->sktime[all_extras]) (13.0.0)\n",
            "Collecting tf-estimator-nightly==2.8.0.dev2021122109\n",
            "  Downloading tf_estimator_nightly-2.8.0.dev2021122109-py2.py3-none-any.whl (462 kB)\n",
            "\u001b[K     |████████████████████████████████| 462 kB 53.2 MB/s \n",
            "\u001b[?25hRequirement already satisfied: h5py>=2.9.0 in /usr/local/lib/python3.7/dist-packages (from tensorflow->sktime[all_extras]) (3.1.0)\n",
            "Requirement already satisfied: tensorboard<2.9,>=2.8 in /usr/local/lib/python3.7/dist-packages (from tensorflow->sktime[all_extras]) (2.8.0)\n",
            "Requirement already satisfied: termcolor>=1.1.0 in /usr/local/lib/python3.7/dist-packages (from tensorflow->sktime[all_extras]) (1.1.0)\n",
            "Requirement already satisfied: gast>=0.2.1 in /usr/local/lib/python3.7/dist-packages (from tensorflow->sktime[all_extras]) (0.5.3)\n",
            "Requirement already satisfied: grpcio<2.0,>=1.24.3 in /usr/local/lib/python3.7/dist-packages (from tensorflow->sktime[all_extras]) (1.44.0)\n",
            "Requirement already satisfied: opt-einsum>=2.3.2 in /usr/local/lib/python3.7/dist-packages (from tensorflow->sktime[all_extras]) (3.3.0)\n",
            "Requirement already satisfied: wheel<1.0,>=0.23.0 in /usr/local/lib/python3.7/dist-packages (from astunparse>=1.6.0->tensorflow->sktime[all_extras]) (0.37.1)\n",
            "Requirement already satisfied: cached-property in /usr/local/lib/python3.7/dist-packages (from h5py>=2.9.0->tensorflow->sktime[all_extras]) (1.5.2)\n",
            "Requirement already satisfied: tensorboard-plugin-wit>=1.6.0 in /usr/local/lib/python3.7/dist-packages (from tensorboard<2.9,>=2.8->tensorflow->sktime[all_extras]) (1.8.1)\n",
            "Requirement already satisfied: werkzeug>=0.11.15 in /usr/local/lib/python3.7/dist-packages (from tensorboard<2.9,>=2.8->tensorflow->sktime[all_extras]) (1.0.1)\n",
            "Requirement already satisfied: tensorboard-data-server<0.7.0,>=0.6.0 in /usr/local/lib/python3.7/dist-packages (from tensorboard<2.9,>=2.8->tensorflow->sktime[all_extras]) (0.6.1)\n",
            "Requirement already satisfied: markdown>=2.6.8 in /usr/local/lib/python3.7/dist-packages (from tensorboard<2.9,>=2.8->tensorflow->sktime[all_extras]) (3.3.6)\n",
            "Requirement already satisfied: google-auth-oauthlib<0.5,>=0.4.1 in /usr/local/lib/python3.7/dist-packages (from tensorboard<2.9,>=2.8->tensorflow->sktime[all_extras]) (0.4.6)\n",
            "Requirement already satisfied: google-auth<3,>=1.6.3 in /usr/local/lib/python3.7/dist-packages (from tensorboard<2.9,>=2.8->tensorflow->sktime[all_extras]) (1.35.0)\n",
            "Requirement already satisfied: rsa<5,>=3.1.4 in /usr/local/lib/python3.7/dist-packages (from google-auth<3,>=1.6.3->tensorboard<2.9,>=2.8->tensorflow->sktime[all_extras]) (4.8)\n",
            "Requirement already satisfied: pyasn1-modules>=0.2.1 in /usr/local/lib/python3.7/dist-packages (from google-auth<3,>=1.6.3->tensorboard<2.9,>=2.8->tensorflow->sktime[all_extras]) (0.2.8)\n",
            "Requirement already satisfied: cachetools<5.0,>=2.0.0 in /usr/local/lib/python3.7/dist-packages (from google-auth<3,>=1.6.3->tensorboard<2.9,>=2.8->tensorflow->sktime[all_extras]) (4.2.4)\n",
            "Requirement already satisfied: requests-oauthlib>=0.7.0 in /usr/local/lib/python3.7/dist-packages (from google-auth-oauthlib<0.5,>=0.4.1->tensorboard<2.9,>=2.8->tensorflow->sktime[all_extras]) (1.3.1)\n",
            "Requirement already satisfied: pyasn1<0.5.0,>=0.4.6 in /usr/local/lib/python3.7/dist-packages (from pyasn1-modules>=0.2.1->google-auth<3,>=1.6.3->tensorboard<2.9,>=2.8->tensorflow->sktime[all_extras]) (0.4.8)\n",
            "Requirement already satisfied: oauthlib>=3.0.0 in /usr/local/lib/python3.7/dist-packages (from requests-oauthlib>=0.7.0->google-auth-oauthlib<0.5,>=0.4.1->tensorboard<2.9,>=2.8->tensorflow->sktime[all_extras]) (3.2.0)\n",
            "Requirement already satisfied: dm-tree in /usr/local/lib/python3.7/dist-packages (from tensorflow-probability->sktime[all_extras]) (0.1.7)\n",
            "Requirement already satisfied: decorator in /usr/local/lib/python3.7/dist-packages (from tensorflow-probability->sktime[all_extras]) (4.4.2)\n",
            "Building wheels for collected packages: pyod, scikit-posthocs\n",
            "  Building wheel for pyod (setup.py) ... \u001b[?25l\u001b[?25hdone\n",
            "  Created wheel for pyod: filename=pyod-1.0.0-py3-none-any.whl size=144471 sha256=ce73d0ee9e5310cfbd493cd8d989f655bc16804bfcf4a81c2a6909000ce1b71e\n",
            "  Stored in directory: /root/.cache/pip/wheels/37/e6/25/8098880dadf78bf063ee9b37477b1a9317e8bb0fc06e623187\n",
            "  Building wheel for scikit-posthocs (PEP 517) ... \u001b[?25l\u001b[?25hdone\n",
            "  Created wheel for scikit-posthocs: filename=scikit_posthocs-0.6.7-py3-none-any.whl size=37903 sha256=4f8cf844a65fed882e5c0eccedd64eb8210a71755fd6f60e09689a1109c5c048\n",
            "  Stored in directory: /root/.cache/pip/wheels/b8/21/e6/f39794d4a6ee3d3cc5146ca80b5cd949452ad4a8fde9f6b9fc\n",
            "Successfully built pyod scikit-posthocs\n",
            "Installing collected packages: scipy, locket, llvmlite, pyluach, protobuf, partd, numba, lunardate, fsspec, cloudpickle, backports.zoneinfo, workalendar, tf-estimator-nightly, stumpy, pmdarima, matrixprofile, distributed, deprecated, tslearn, tsfresh, tbats, statsforecast, sktime, scikit-posthocs, pyod, hcrystalball, esig, dtw-python\n",
            "  Attempting uninstall: scipy\n",
            "    Found existing installation: scipy 1.4.1\n",
            "    Uninstalling scipy-1.4.1:\n",
            "      Successfully uninstalled scipy-1.4.1\n",
            "  Attempting uninstall: llvmlite\n",
            "    Found existing installation: llvmlite 0.34.0\n",
            "    Uninstalling llvmlite-0.34.0:\n",
            "      Successfully uninstalled llvmlite-0.34.0\n",
            "  Attempting uninstall: protobuf\n",
            "    Found existing installation: protobuf 3.17.3\n",
            "    Uninstalling protobuf-3.17.3:\n",
            "      Successfully uninstalled protobuf-3.17.3\n",
            "  Attempting uninstall: numba\n",
            "    Found existing installation: numba 0.51.2\n",
            "    Uninstalling numba-0.51.2:\n",
            "      Successfully uninstalled numba-0.51.2\n",
            "  Attempting uninstall: cloudpickle\n",
            "    Found existing installation: cloudpickle 1.3.0\n",
            "    Uninstalling cloudpickle-1.3.0:\n",
            "      Successfully uninstalled cloudpickle-1.3.0\n",
            "  Attempting uninstall: distributed\n",
            "    Found existing installation: distributed 1.25.3\n",
            "    Uninstalling distributed-1.25.3:\n",
            "      Successfully uninstalled distributed-1.25.3\n",
            "\u001b[31mERROR: pip's dependency resolver does not currently take into account all the packages that are installed. This behaviour is the source of the following dependency conflicts.\n",
            "tensorflow-metadata 1.7.0 requires protobuf<4,>=3.13, but you have protobuf 3.11.2 which is incompatible.\n",
            "gym 0.17.3 requires cloudpickle<1.7.0,>=1.2.0, but you have cloudpickle 2.0.0 which is incompatible.\n",
            "googleapis-common-protos 1.56.0 requires protobuf>=3.12.0, but you have protobuf 3.11.2 which is incompatible.\n",
            "google-api-core 1.31.5 requires protobuf>=3.12.0; python_version > \"3\", but you have protobuf 3.11.2 which is incompatible.\n",
            "albumentations 0.1.12 requires imgaug<0.2.7,>=0.2.5, but you have imgaug 0.2.9 which is incompatible.\u001b[0m\n",
            "Successfully installed backports.zoneinfo-0.2.1 cloudpickle-2.0.0 deprecated-1.2.13 distributed-2.30.1 dtw-python-1.1.12 esig-0.9.7 fsspec-2022.3.0 hcrystalball-0.1.12 llvmlite-0.38.0 locket-1.0.0 lunardate-0.2.0 matrixprofile-1.1.10 numba-0.55.1 partd-1.2.0 pmdarima-1.8.5 protobuf-3.11.2 pyluach-1.4.1 pyod-1.0.0 scikit-posthocs-0.6.7 scipy-1.7.3 sktime-0.11.2 statsforecast-0.5.3 stumpy-1.11.1 tbats-1.1.0 tf-estimator-nightly-2.8.0.dev2021122109 tsfresh-0.19.0 tslearn-0.5.2 workalendar-16.3.0\n"
          ]
        },
        {
          "output_type": "display_data",
          "data": {
            "application/vnd.colab-display-data+json": {
              "pip_warning": {
                "packages": [
                  "cloudpickle",
                  "google",
                  "scipy"
                ]
              }
            }
          },
          "metadata": {}
        }
      ],
      "source": [
        "!pip install orbit-ml\n",
        "!pip install prophet\n",
        "!pip install sktime[all_extras]"
      ]
    },
    {
      "cell_type": "code",
      "execution_count": null,
      "metadata": {
        "id": "37r09zfzFXgE"
      },
      "outputs": [],
      "source": [
        "%matplotlib inline\n",
        "\n",
        "from IPython import display\n",
        "import matplotlib.pyplot as plt\n",
        "\n",
        "import math\n",
        "import pandas as pd\n",
        "import numpy as np\n",
        "\n",
        "from statsmodels.graphics.tsaplots import plot_acf, plot_pacf\n",
        "from sklearn.metrics import mean_absolute_error"
      ]
    },
    {
      "cell_type": "code",
      "source": [
        "import warnings\n",
        "warnings.simplefilter(action='ignore', category=FutureWarning)"
      ],
      "metadata": {
        "id": "CXaE4sWWJH8V"
      },
      "execution_count": null,
      "outputs": []
    },
    {
      "cell_type": "markdown",
      "metadata": {
        "id": "CL4IbYsbH_EW"
      },
      "source": [
        "## Задание 1 (1 балл). Поиск и предобработка данных.\n",
        "\n",
        "В этом задании Вам необходимо _самостоятельно_ найти два временных ряда: один должен обладать месячной частотой, а второй — дневной.\n",
        "\n",
        "Мы советуем поискать соответствующие временные ряды на платформе [kaggle](https://www.kaggle.com/datasets) или же взять один из [популярных](https://medium.com/analytics-vidhya/10-time-series-datasets-for-practice-d14fec9f21bc) временных рядов для анализа. \n",
        "\n",
        "**Не рекомендуется** использовать в качестве временных рядов цены финансовых инструментов в силу плохой предсказуемости изменения цен. **Запрещается** использовать готовые наборы данных из библиотек для анализа временных рядов, например, `from orbit.utils.dataset import load_iclaims`.\n",
        "\n",
        "![bitcoin](https://avatars.mds.yandex.net/get-zen_doc/3417386/pub_6017dd4b8d30cb1780864ae0_6017f4aa8d30cb1780bf66ce/scale_1200)\n",
        "\n",
        "\n",
        "\n",
        "\n",
        "В качестве отчета по заданию:\n",
        "\n",
        "* Опишите источники временных рядов (ссылки на страницы скачивания). В случае, если данные требовали дополнительной обработки, приведите код этой обработки, загрузите данные в личное облачное хранилище и приведите ссылку на скачивание. Процесс получения временных рядов должен быть **четко** расписан и полностью **воспроизводиться**. \n",
        "\n",
        "* Приведите код считывания временных рядов из файлов и разделения на train/test. Соотношение размеров train/test на Ваше усмотрение, но мы советуем Вам выбрать 80% на 20%, если в test остаётся хотя бы пара лет наблюдений.\n",
        "\n"
      ]
    },
    {
      "cell_type": "markdown",
      "source": [
        "Я выбрала временные ряды на [предложенном сайте](https://medium.com/analytics-vidhya/10-time-series-datasets-for-practice-d14fec9f21bc).\n",
        "\n",
        "Первый временной ряд: U.S. nuclear capacity, Daily .\n",
        "\n",
        "Второй временной ряд: Imports of all grades of crude oil from World to Total U.S. (US), Monthly.\n",
        "\n",
        "Код считывания временных рядов с сайта, их дополнительной обработки и разделения на train/test приведен ниже."
      ],
      "metadata": {
        "id": "BgKjmShX6c2c"
      }
    },
    {
      "cell_type": "code",
      "execution_count": null,
      "metadata": {
        "id": "V4tREl4VFXgG"
      },
      "outputs": [],
      "source": [
        "# скачаем данные\n",
        "# !wget timeseries1_link\n",
        "# !wget timeseries2_link "
      ]
    },
    {
      "cell_type": "code",
      "source": [
        "# считаем файлы\n",
        "ts1 = pd.read_csv('https://github.com/rishabh89007/Time_Series_Datasets/raw/main/Nuclear%20Capacity.csv',\n",
        "            header=None, \n",
        "            names=['day', 'nuclear_capacity'], skiprows=1) #.set_index('year')\n",
        "\n",
        "ts2 = pd.read_csv('https://github.com/rishabh89007/Time_Series_Datasets/raw/main/Imports%20Crude%20Oil.csv',\n",
        "            header=None, \n",
        "            names=['month', 'oil_imports'], skiprows=1)"
      ],
      "metadata": {
        "id": "AYcfBOSg2PBk"
      },
      "execution_count": null,
      "outputs": []
    },
    {
      "cell_type": "code",
      "source": [
        "# приведем колонки со временем к нужному формату\n",
        "ts1.day = pd.to_datetime(ts1.day.apply(lambda x: x[:4] + '-' + x[5:7] + '-' + x[7:-3])).dt.date\n",
        "\n",
        "ts2.month = pd.to_datetime(ts2.month).dt.date "
      ],
      "metadata": {
        "id": "muG7778KXN-e"
      },
      "execution_count": null,
      "outputs": []
    },
    {
      "cell_type": "code",
      "execution_count": null,
      "metadata": {
        "id": "lX3plyGFiUFV"
      },
      "outputs": [],
      "source": [
        "# сделаем разбиение на train/test\n",
        "test_size_1 = int(ts1.shape[0] * 0.2)\n",
        "\n",
        "train_ts1 = ts1[:-test_size_1]\n",
        "test_ts1 = ts1[-test_size_1:]\n",
        "\n",
        "test_size_2 = int(ts2.shape[0] * 0.2)\n",
        "\n",
        "train_ts2 = ts2[:-test_size_2]\n",
        "test_ts2 = ts2[-test_size_2:]"
      ]
    },
    {
      "cell_type": "code",
      "source": [
        "train_ts1.shape, test_ts1.shape "
      ],
      "metadata": {
        "colab": {
          "base_uri": "https://localhost:8080/"
        },
        "id": "rSt0pfsiBsxJ",
        "outputId": "3727b445-4bc2-4818-e044-7cd93e5be5a7"
      },
      "execution_count": null,
      "outputs": [
        {
          "output_type": "execute_result",
          "data": {
            "text/plain": [
              "((4180, 2), (1045, 2))"
            ]
          },
          "metadata": {},
          "execution_count": 91
        }
      ]
    },
    {
      "cell_type": "code",
      "source": [
        "train_ts2.shape, test_ts2.shape"
      ],
      "metadata": {
        "colab": {
          "base_uri": "https://localhost:8080/"
        },
        "id": "VCrT9jcTB0fw",
        "outputId": "c68027fe-e5e3-4b6a-d433-b628a2e3181b"
      },
      "execution_count": null,
      "outputs": [
        {
          "output_type": "execute_result",
          "data": {
            "text/plain": [
              "((116, 2), (29, 2))"
            ]
          },
          "metadata": {},
          "execution_count": 56
        }
      ]
    },
    {
      "cell_type": "markdown",
      "metadata": {
        "id": "lotD7Qf7kgYD"
      },
      "source": [
        "## Задание 2. Анализ временных рядов (1 балл).\n",
        "\n",
        "* Отрисуйте временные ряды и визуально сделайте различимым разбиение на выборки — либо вертикальной чертой, либо разными цветами.\n",
        "\n",
        "* Постройте графики [автокорреляционных функций](https://www.machinelearningmastery.ru/time-series-in-python-exponential-smoothing-and-arima-processes-2c67f2a52788/) для выбранных временных рядов. Прокомментируйте их: являются ли временные ряды сезонными? Видна ли на графиках длина сезонной составляющей ряда?\n",
        "\n",
        "* В случае присутствия сезонности, разбейте временной ряд на повторяющиеся фрагменты и нарисуйте их наложенными для иллюстрации этой сезонности."
      ]
    },
    {
      "cell_type": "markdown",
      "source": [
        "Построим график ряда с ежедневными данными:"
      ],
      "metadata": {
        "id": "8Mw-Qt60NGJ2"
      }
    },
    {
      "cell_type": "code",
      "execution_count": null,
      "metadata": {
        "id": "-OQ0Jnp0eNrA",
        "colab": {
          "base_uri": "https://localhost:8080/",
          "height": 336
        },
        "outputId": "06da3cb6-b123-41ca-e93e-dff36faefb92"
      },
      "outputs": [
        {
          "output_type": "display_data",
          "data": {
            "text/plain": [
              "<Figure size 864x288 with 1 Axes>"
            ],
            "image/png": "[encoded data removed]"
          },
          "metadata": {
            "needs_background": "light"
          }
        }
      ],
      "source": [
        "# отрисуем временные ряды\n",
        "plt.figure(figsize=(12, 4))\n",
        "plt.plot(ts1.day, ts1.nuclear_capacity, 'green')\n",
        "plt.plot([ts1.day[4181], ts1.day[4181]], [0, ts1.nuclear_capacity.max()], 'black')\n",
        "plt.xticks(ts1.day[::250], rotation=50)\n",
        "plt.xlabel('Time')\n",
        "plt.ylabel('Capacity')\n",
        "plt.title('U.S. nuclear capacity, Daily')\n",
        "plt.show()"
      ]
    },
    {
      "cell_type": "code",
      "source": [
        "# приблизим\n",
        "plt.figure(figsize=(12, 4))\n",
        "plt.plot(ts1.day[:2000], ts1.nuclear_capacity[:2000], 'orange')\n",
        "plt.xlabel('Time')\n",
        "plt.ylabel('Capacity')\n",
        "plt.title('U.S. nuclear capacity, Daily')\n",
        "plt.show()"
      ],
      "metadata": {
        "colab": {
          "base_uri": "https://localhost:8080/",
          "height": 295
        },
        "id": "MJJH3yW3hbnk",
        "outputId": "98970ce9-a942-465f-be6d-13d68eca7809"
      },
      "execution_count": null,
      "outputs": [
        {
          "output_type": "display_data",
          "data": {
            "text/plain": [
              "<Figure size 864x288 with 1 Axes>"
            ],
            "image/png": "[encoded data removed]"
          },
          "metadata": {
            "needs_background": "light"
          }
        }
      ]
    },
    {
      "cell_type": "markdown",
      "source": [
        "Построим график ряда с ежемесячными данными:"
      ],
      "metadata": {
        "id": "5hBiDIi_NQOk"
      }
    },
    {
      "cell_type": "code",
      "source": [
        "plt.figure(figsize=(12, 4))\n",
        "plt.plot(ts2.month, ts2.oil_imports, 'blue')\n",
        "plt.plot([ts2.month[117], ts2.month[117]], [0, ts2.oil_imports.max()], 'black')\n",
        "plt.xticks(ts2.month[::5], rotation=50)\n",
        "plt.xlabel('Time')\n",
        "plt.ylabel('Oil imports')\n",
        "plt.title('Imports of all grades of crude oil from World to Total U.S. (US), Monthly')\n",
        "plt.show()"
      ],
      "metadata": {
        "colab": {
          "base_uri": "https://localhost:8080/",
          "height": 336
        },
        "id": "j4YdRhNdFkho",
        "outputId": "5601da77-a3ce-4048-9a46-09be61ad6b94"
      },
      "execution_count": null,
      "outputs": [
        {
          "output_type": "display_data",
          "data": {
            "text/plain": [
              "<Figure size 864x288 with 1 Axes>"
            ],
            "image/png": "[encoded data removed]"
          },
          "metadata": {
            "needs_background": "light"
          }
        }
      ]
    },
    {
      "cell_type": "markdown",
      "source": [
        "Можно предположить, что в данных по месяцам есть такая сезонность (пунктирная линия приблизительно показывает конец первого периода), но из-за относительно небольшого объема данных, сказать наверняка ничего нельзя:"
      ],
      "metadata": {
        "id": "BVUMvLApMNmx"
      }
    },
    {
      "cell_type": "code",
      "source": [
        "idx = int(ts2.shape[0] * 0.35)\n",
        "first_sp_end = ts2.iloc[-idx, 0]\n",
        "\n",
        "plt.figure(figsize=(12, 4))\n",
        "plt.plot(ts2.month, ts2.oil_imports, 'blue')\n",
        "plt.plot([first_sp_end, first_sp_end], [ts2.oil_imports.min(), ts2.oil_imports.max()], 'grey', linestyle='--')\n",
        "plt.ylim([ts2.oil_imports.min() - 5000, ts2.oil_imports.max() + 5000])\n",
        "plt.xticks(ts2.month[::5], rotation=50)\n",
        "plt.xlabel('Time')\n",
        "plt.ylabel('Oil imports')\n",
        "plt.title('Imports of all grades of crude oil from World to Total U.S. (US), Monthly')\n",
        "plt.show()"
      ],
      "metadata": {
        "colab": {
          "base_uri": "https://localhost:8080/",
          "height": 336
        },
        "id": "izm1zxs5B0iM",
        "outputId": "f3665b31-c143-449b-8627-6d6d66ec0d66"
      },
      "execution_count": null,
      "outputs": [
        {
          "output_type": "display_data",
          "data": {
            "text/plain": [
              "<Figure size 864x288 with 1 Axes>"
            ],
            "image/png": "[encoded data removed]"
          },
          "metadata": {
            "needs_background": "light"
          }
        }
      ]
    },
    {
      "cell_type": "markdown",
      "source": [
        "Посмотрим на автокорреляционные функции:"
      ],
      "metadata": {
        "id": "6QNyFkIdM9oN"
      }
    },
    {
      "cell_type": "code",
      "execution_count": null,
      "metadata": {
        "id": "1GITHbTNe5MC",
        "colab": {
          "base_uri": "https://localhost:8080/",
          "height": 390
        },
        "outputId": "6f1bd732-ef8d-44e3-e853-d93ea2cfce00"
      },
      "outputs": [
        {
          "output_type": "display_data",
          "data": {
            "text/plain": [
              "<Figure size 864x432 with 2 Axes>"
            ],
            "image/png": "[encoded data removed]"
          },
          "metadata": {
            "needs_background": "light"
          }
        }
      ],
      "source": [
        "# посчитайте и нарисуйте график автокорреляционной функции\n",
        "# hint, используйте для этого np.correlate(..., mode='full')\n",
        "\n",
        "fig, ax = plt.subplots(2, figsize=(12,6))\n",
        "ax[0] = plot_acf(ts1.nuclear_capacity, ax=ax[0], lags=20)\n",
        "ax[1] = plot_pacf(ts1.nuclear_capacity, ax=ax[1], lags=20)\n",
        "plt.show()"
      ]
    },
    {
      "cell_type": "code",
      "source": [
        "fig, ax = plt.subplots(2, figsize=(12,6))\n",
        "ax[0] = plot_acf(ts2.oil_imports, ax=ax[0], lags=20)\n",
        "ax[1] = plot_pacf(ts2.oil_imports, ax=ax[1], lags=20)\n",
        "plt.show()"
      ],
      "metadata": {
        "colab": {
          "base_uri": "https://localhost:8080/",
          "height": 390
        },
        "id": "wK69gEAuJCRY",
        "outputId": "b3a6d3e1-e727-41fa-e684-fcce21279f29"
      },
      "execution_count": null,
      "outputs": [
        {
          "output_type": "display_data",
          "data": {
            "text/plain": [
              "<Figure size 864x432 with 2 Axes>"
            ],
            "image/png": "[encoded data removed]"
          },
          "metadata": {
            "needs_background": "light"
          }
        }
      ]
    },
    {
      "cell_type": "markdown",
      "source": [
        "На построенных выше графиках видно, что ряд с ежемесячными значениями все же скорее не имеет сезонности, в то время как в дневных данных сезонность присутствует. Исходя из графика, длина сезонной составляющей ряда составляет примерно год."
      ],
      "metadata": {
        "id": "_31H-awBKL57"
      }
    },
    {
      "cell_type": "code",
      "execution_count": null,
      "metadata": {
        "id": "1wKGSLD3fkJg",
        "colab": {
          "base_uri": "https://localhost:8080/",
          "height": 295
        },
        "outputId": "92cce7ac-a839-4fde-df8e-665e23dda1d2"
      },
      "outputs": [
        {
          "output_type": "display_data",
          "data": {
            "text/plain": [
              "<Figure size 864x288 with 1 Axes>"
            ],
            "image/png": "[encoded data removed]"
          },
          "metadata": {
            "needs_background": "light"
          }
        }
      ],
      "source": [
        "# разбейте временной ряд на повторяющиеся участки по длине сезонной составляющей и нарисуйте их наложенными\n",
        "s = 365\n",
        "sp = math.ceil(ts1.shape[0] / s) # number of seasonality periods\n",
        "\n",
        "plt.figure(figsize=(12, 4))\n",
        "for i in range(sp):\n",
        "  plt.plot(ts1.iloc[i * s : (i + 1) * s, 0], ts1.iloc[i * s : (i + 1) * s, 1])\n",
        "\n",
        "plt.xlabel('Time')\n",
        "plt.ylabel('Capacity')\n",
        "plt.title('U.S. nuclear capacity, Daily')\n",
        "plt.show()"
      ]
    },
    {
      "cell_type": "code",
      "source": [
        "plt.figure(figsize=(12, 6))\n",
        "for i in range(sp - 1):\n",
        "  plt.plot(np.arange(365), ts1.iloc[i * s : (i + 1) * s, 1])\n",
        "\n",
        "plt.ylim([95000, 105000])\n",
        "plt.xlabel('Time')\n",
        "plt.ylabel('Capacity')\n",
        "plt.title('Superimposed U.S. nuclear capacity, Daily')\n",
        "plt.show()"
      ],
      "metadata": {
        "colab": {
          "base_uri": "https://localhost:8080/",
          "height": 404
        },
        "id": "E1TffCeakpgz",
        "outputId": "5ac13cd2-1167-43aa-d5b3-20f79ffc39a3"
      },
      "execution_count": null,
      "outputs": [
        {
          "output_type": "display_data",
          "data": {
            "text/plain": [
              "<Figure size 864x432 with 1 Axes>"
            ],
            "image/png": "[encoded data removed]"
          },
          "metadata": {
            "needs_background": "light"
          }
        }
      ]
    },
    {
      "cell_type": "markdown",
      "metadata": {
        "id": "5G8-l8yuRNLL"
      },
      "source": [
        "## Задание 3. Предсказание месячного временного ряда (4 балла).\n",
        "\n",
        "В этом задании Вам предстоит попробовать предсказать месячный временной ряд несколькими готовыми моделями со скользящим или растущим окном и выбрать среди них наилучшую.\n",
        "\n",
        "В качестве метрики сравнения используйте MAE между истинными и предсказанными значениями ряда на тестовом отрезке."
      ]
    },
    {
      "cell_type": "code",
      "source": [
        "ts2.head()"
      ],
      "metadata": {
        "colab": {
          "base_uri": "https://localhost:8080/",
          "height": 206
        },
        "id": "q97fJaKAgqvG",
        "outputId": "90903cb4-96ac-40b8-b8e3-6fe26d041f25"
      },
      "execution_count": null,
      "outputs": [
        {
          "output_type": "execute_result",
          "data": {
            "text/plain": [
              "      month  oil_imports\n",
              "0  2009 01        317275\n",
              "1  2009 02        262339\n",
              "2  2009 03        303897\n",
              "3  2009 04        285934\n",
              "4  2009 05        281147"
            ],
            "text/html": [
              "\n",
              "  <div id=\"df-306c3af1-fa93-409f-82ac-b8c1ea0a5039\">\n",
              "    <div class=\"colab-df-container\">\n",
              "      <div>\n",
              "<style scoped>\n",
              "    .dataframe tbody tr th:only-of-type {\n",
              "        vertical-align: middle;\n",
              "    }\n",
              "\n",
              "    .dataframe tbody tr th {\n",
              "        vertical-align: top;\n",
              "    }\n",
              "\n",
              "    .dataframe thead th {\n",
              "        text-align: right;\n",
              "    }\n",
              "</style>\n",
              "<table border=\"1\" class=\"dataframe\">\n",
              "  <thead>\n",
              "    <tr style=\"text-align: right;\">\n",
              "      <th></th>\n",
              "      <th>month</th>\n",
              "      <th>oil_imports</th>\n",
              "    </tr>\n",
              "  </thead>\n",
              "  <tbody>\n",
              "    <tr>\n",
              "      <th>0</th>\n",
              "      <td>2009 01</td>\n",
              "      <td>317275</td>\n",
              "    </tr>\n",
              "    <tr>\n",
              "      <th>1</th>\n",
              "      <td>2009 02</td>\n",
              "      <td>262339</td>\n",
              "    </tr>\n",
              "    <tr>\n",
              "      <th>2</th>\n",
              "      <td>2009 03</td>\n",
              "      <td>303897</td>\n",
              "    </tr>\n",
              "    <tr>\n",
              "      <th>3</th>\n",
              "      <td>2009 04</td>\n",
              "      <td>285934</td>\n",
              "    </tr>\n",
              "    <tr>\n",
              "      <th>4</th>\n",
              "      <td>2009 05</td>\n",
              "      <td>281147</td>\n",
              "    </tr>\n",
              "  </tbody>\n",
              "</table>\n",
              "</div>\n",
              "      <button class=\"colab-df-convert\" onclick=\"convertToInteractive('df-306c3af1-fa93-409f-82ac-b8c1ea0a5039')\"\n",
              "              title=\"Convert this dataframe to an interactive table.\"\n",
              "              style=\"display:none;\">\n",
              "        \n",
              "  <svg xmlns=\"http://www.w3.org/2000/svg\" height=\"24px\"viewBox=\"0 0 24 24\"\n",
              "       width=\"24px\">\n",
              "    <path d=\"M0 0h24v24H0V0z\" fill=\"none\"/>\n",
              "    <path d=\"M18.56 5.44l.94 2.06.94-2.06 2.06-.94-2.06-.94-.94-2.06-.94 2.06-2.06.94zm-11 1L8.5 8.5l.94-2.06 2.06-.94-2.06-.94L8.5 2.5l-.94 2.06-2.06.94zm10 10l.94 2.06.94-2.06 2.06-.94-2.06-.94-.94-2.06-.94 2.06-2.06.94z\"/><path d=\"M17.41 7.96l-1.37-1.37c-.4-.4-.92-.59-1.43-.59-.52 0-1.04.2-1.43.59L10.3 9.45l-7.72 7.72c-.78.78-.78 2.05 0 2.83L4 21.41c.39.39.9.59 1.41.59.51 0 1.02-.2 1.41-.59l7.78-7.78 2.81-2.81c.8-.78.8-2.07 0-2.86zM5.41 20L4 18.59l7.72-7.72 1.47 1.35L5.41 20z\"/>\n",
              "  </svg>\n",
              "      </button>\n",
              "      \n",
              "  <style>\n",
              "    .colab-df-container {\n",
              "      display:flex;\n",
              "      flex-wrap:wrap;\n",
              "      gap: 12px;\n",
              "    }\n",
              "\n",
              "    .colab-df-convert {\n",
              "      background-color: #E8F0FE;\n",
              "      border: none;\n",
              "      border-radius: 50%;\n",
              "      cursor: pointer;\n",
              "      display: none;\n",
              "      fill: #1967D2;\n",
              "      height: 32px;\n",
              "      padding: 0 0 0 0;\n",
              "      width: 32px;\n",
              "    }\n",
              "\n",
              "    .colab-df-convert:hover {\n",
              "      background-color: #E2EBFA;\n",
              "      box-shadow: 0px 1px 2px rgba(60, 64, 67, 0.3), 0px 1px 3px 1px rgba(60, 64, 67, 0.15);\n",
              "      fill: #174EA6;\n",
              "    }\n",
              "\n",
              "    [theme=dark] .colab-df-convert {\n",
              "      background-color: #3B4455;\n",
              "      fill: #D2E3FC;\n",
              "    }\n",
              "\n",
              "    [theme=dark] .colab-df-convert:hover {\n",
              "      background-color: #434B5C;\n",
              "      box-shadow: 0px 1px 3px 1px rgba(0, 0, 0, 0.15);\n",
              "      filter: drop-shadow(0px 1px 2px rgba(0, 0, 0, 0.3));\n",
              "      fill: #FFFFFF;\n",
              "    }\n",
              "  </style>\n",
              "\n",
              "      <script>\n",
              "        const buttonEl =\n",
              "          document.querySelector('#df-306c3af1-fa93-409f-82ac-b8c1ea0a5039 button.colab-df-convert');\n",
              "        buttonEl.style.display =\n",
              "          google.colab.kernel.accessAllowed ? 'block' : 'none';\n",
              "\n",
              "        async function convertToInteractive(key) {\n",
              "          const element = document.querySelector('#df-306c3af1-fa93-409f-82ac-b8c1ea0a5039');\n",
              "          const dataTable =\n",
              "            await google.colab.kernel.invokeFunction('convertToInteractive',\n",
              "                                                     [key], {});\n",
              "          if (!dataTable) return;\n",
              "\n",
              "          const docLinkHtml = 'Like what you see? Visit the ' +\n",
              "            '<a target=\"_blank\" href=https://colab.research.google.com/notebooks/data_table.ipynb>data table notebook</a>'\n",
              "            + ' to learn more about interactive tables.';\n",
              "          element.innerHTML = '';\n",
              "          dataTable['output_type'] = 'display_data';\n",
              "          await google.colab.output.renderOutput(dataTable, element);\n",
              "          const docLink = document.createElement('div');\n",
              "          docLink.innerHTML = docLinkHtml;\n",
              "          element.appendChild(docLink);\n",
              "        }\n",
              "      </script>\n",
              "    </div>\n",
              "  </div>\n",
              "  "
            ]
          },
          "metadata": {},
          "execution_count": 46
        }
      ]
    },
    {
      "cell_type": "markdown",
      "metadata": {
        "id": "dCrUK4uqjm5r"
      },
      "source": [
        "### NaiveForecaster из sktime (1 балл).\n",
        "\n",
        "Посчитайте предсказания следующими двумя наивными способами:\n",
        "\n",
        "* $\\hat{y}_{t+1} = y_{t}$\n",
        "* $\\hat{y}_{t+1} = y_{t-seasonality+1}$"
      ]
    },
    {
      "cell_type": "code",
      "execution_count": null,
      "metadata": {
        "id": "_IoFNGRekGUB"
      },
      "outputs": [],
      "source": [
        "from sktime.forecasting.naive import NaiveForecaster\n",
        "\n",
        "# ваш код обучения моделей здесь\n",
        "native_forecaster = NaiveForecaster(strategy='last', sp=1)\n",
        "native_forecaster.fit(train_ts2.oil_imports)\n",
        "\n",
        "ts2_pred_native = native_forecaster.predict(list(range(1, test_size_2 + 1)))"
      ]
    },
    {
      "cell_type": "code",
      "execution_count": null,
      "metadata": {
        "id": "yRN0neLxkLyF",
        "colab": {
          "base_uri": "https://localhost:8080/"
        },
        "outputId": "d09cbe1d-78df-4593-b671-542c0cbe3b53"
      },
      "outputs": [
        {
          "output_type": "execute_result",
          "data": {
            "text/plain": [
              "50757.8275862069"
            ]
          },
          "metadata": {},
          "execution_count": 6
        }
      ],
      "source": [
        "# посчитайте метрики на test\n",
        "native_forecaster_mae = mean_absolute_error(test_ts2.oil_imports, ts2_pred_native)\n",
        "native_forecaster_mae "
      ]
    },
    {
      "cell_type": "code",
      "source": [
        "# проделаем то же самое для второго наивного способа \n",
        "native_forecaster_s = NaiveForecaster(strategy='last', sp=12) # но вообще там нет сезонности, тем более, такой\n",
        "native_forecaster_s.fit(train_ts2.oil_imports)\n",
        "\n",
        "ts2_pred_native_s = native_forecaster_s.predict(list(range(1, test_size_2 + 1)))\n",
        "\n",
        "native_forecaster_s_mae = mean_absolute_error(test_ts2.oil_imports, ts2_pred_native_s)\n",
        "native_forecaster_s_mae "
      ],
      "metadata": {
        "colab": {
          "base_uri": "https://localhost:8080/"
        },
        "id": "mKZZhFboZoia",
        "outputId": "d80a2408-03bf-498b-e34a-f4e9038aa50f"
      },
      "execution_count": null,
      "outputs": [
        {
          "output_type": "execute_result",
          "data": {
            "text/plain": [
              "41728.44827586207"
            ]
          },
          "metadata": {},
          "execution_count": 35
        }
      ]
    },
    {
      "cell_type": "code",
      "source": [
        "# попробуем взять сезонность, которая, возможно, есть, исходя из рисунка в задании 2 \n",
        "sp = ts2.shape[0] - idx\n",
        "\n",
        "native_forecaster_s = NaiveForecaster(strategy='last', sp=sp)\n",
        "native_forecaster_s.fit(train_ts2.oil_imports)\n",
        "\n",
        "ts2_pred_native_s = native_forecaster_s.predict(list(range(1, test_size_2 + 1)))\n",
        "\n",
        "native_forecaster_s_mae = mean_absolute_error(test_ts2.oil_imports, ts2_pred_native_s)\n",
        "native_forecaster_s_mae "
      ],
      "metadata": {
        "colab": {
          "base_uri": "https://localhost:8080/"
        },
        "id": "CeZD1BQtOGUo",
        "outputId": "2790f6fc-7ff6-4089-a2ea-0ced82bb027d"
      },
      "execution_count": null,
      "outputs": [
        {
          "output_type": "execute_result",
          "data": {
            "text/plain": [
              "68933.93103448275"
            ]
          },
          "metadata": {},
          "execution_count": 112
        }
      ]
    },
    {
      "cell_type": "markdown",
      "metadata": {
        "id": "y0H3pYCmkRJB"
      },
      "source": [
        "### ARIMA/AutoArima (1 балл).\n",
        "\n",
        "Обучите из библиотеки `sktime` модели:\n",
        "\n",
        "* SARIMA(1, 1, 1)(1, 0, 0)[12] (`ARIMA` в `sktime`)\n",
        "* Алгоритм Хиндмана-Хандакара подбора SARIMA (`AutoARIMA` в `sktime`)"
      ]
    },
    {
      "cell_type": "code",
      "execution_count": null,
      "metadata": {
        "id": "PJZdDAP5kxKD",
        "colab": {
          "base_uri": "https://localhost:8080/"
        },
        "outputId": "20b675e9-09ac-4977-bce8-9960000e4230"
      },
      "outputs": [
        {
          "output_type": "execute_result",
          "data": {
            "text/plain": [
              "ARIMA(order=(1, 1, 1), scoring='mae', seasonal_order=(1, 0, 0, 12),\n",
              "      suppress_warnings=True)"
            ]
          },
          "metadata": {},
          "execution_count": 160
        }
      ],
      "source": [
        "from sktime.forecasting.arima import ARIMA, AutoARIMA\n",
        "\n",
        "# ваш код обучения моделей здесь\n",
        "\n",
        "# преобразуем pd.DataFrame в pd.Series\n",
        "arima_train_ts2 = pd.Series(data=train_ts2.oil_imports.values, index=pd.PeriodIndex(train_ts2.month, freq='M'))\n",
        "\n",
        "arima = ARIMA(order=(1, 1, 1), seasonal_order=(1, 0, 0, 12), suppress_warnings=True, scoring='mae')\n",
        "\n",
        "# обучение модели\n",
        "arima.fit(arima_train_ts2)"
      ]
    },
    {
      "cell_type": "code",
      "source": [
        "arima.summary()"
      ],
      "metadata": {
        "id": "AwCbMgVQQ-5b",
        "colab": {
          "base_uri": "https://localhost:8080/",
          "height": 482
        },
        "outputId": "16af6b77-9c5f-4004-c9ba-769b5a6219fd"
      },
      "execution_count": null,
      "outputs": [
        {
          "output_type": "execute_result",
          "data": {
            "text/plain": [
              "<class 'statsmodels.iolib.summary.Summary'>\n",
              "\"\"\"\n",
              "                                      SARIMAX Results                                      \n",
              "===========================================================================================\n",
              "Dep. Variable:                                   y   No. Observations:                  116\n",
              "Model:             SARIMAX(1, 1, 1)x(1, 0, [], 12)   Log Likelihood               -1270.042\n",
              "Date:                             Sun, 24 Apr 2022   AIC                           2550.085\n",
              "Time:                                     12:47:42   BIC                           2563.810\n",
              "Sample:                                          0   HQIC                          2555.656\n",
              "                                             - 116                                         \n",
              "Covariance Type:                               opg                                         \n",
              "==============================================================================\n",
              "                 coef    std err          z      P>|z|      [0.025      0.975]\n",
              "------------------------------------------------------------------------------\n",
              "intercept   -740.2400   1628.282     -0.455      0.649   -3931.614    2451.134\n",
              "ar.L1         -0.4452      0.164     -2.714      0.007      -0.767      -0.124\n",
              "ma.L1          0.2032      0.179      1.135      0.257      -0.148       0.554\n",
              "ar.S.L12       0.1502      0.019      7.838      0.000       0.113       0.188\n",
              "sigma2      2.123e+08      0.024   8.69e+09      0.000    2.12e+08    2.12e+08\n",
              "===================================================================================\n",
              "Ljung-Box (L1) (Q):                  10.39   Jarque-Bera (JB):                10.32\n",
              "Prob(Q):                              0.00   Prob(JB):                         0.01\n",
              "Heteroskedasticity (H):               0.59   Skew:                            -0.48\n",
              "Prob(H) (two-sided):                  0.11   Kurtosis:                         4.10\n",
              "===================================================================================\n",
              "\n",
              "Warnings:\n",
              "[1] Covariance matrix calculated using the outer product of gradients (complex-step).\n",
              "[2] Covariance matrix is singular or near-singular, with condition number 5.28e+25. Standard errors may be unstable.\n",
              "\"\"\""
            ],
            "text/html": [
              "<table class=\"simpletable\">\n",
              "<caption>SARIMAX Results</caption>\n",
              "<tr>\n",
              "  <th>Dep. Variable:</th>                  <td>y</td>                <th>  No. Observations:  </th>    <td>116</td>   \n",
              "</tr>\n",
              "<tr>\n",
              "  <th>Model:</th>           <td>SARIMAX(1, 1, 1)x(1, 0, [], 12)</td> <th>  Log Likelihood     </th> <td>-1270.042</td>\n",
              "</tr>\n",
              "<tr>\n",
              "  <th>Date:</th>                   <td>Sun, 24 Apr 2022</td>         <th>  AIC                </th> <td>2550.085</td> \n",
              "</tr>\n",
              "<tr>\n",
              "  <th>Time:</th>                       <td>12:47:42</td>             <th>  BIC                </th> <td>2563.810</td> \n",
              "</tr>\n",
              "<tr>\n",
              "  <th>Sample:</th>                         <td>0</td>                <th>  HQIC               </th> <td>2555.656</td> \n",
              "</tr>\n",
              "<tr>\n",
              "  <th></th>                             <td> - 116</td>              <th>                     </th>     <td> </td>    \n",
              "</tr>\n",
              "<tr>\n",
              "  <th>Covariance Type:</th>               <td>opg</td>               <th>                     </th>     <td> </td>    \n",
              "</tr>\n",
              "</table>\n",
              "<table class=\"simpletable\">\n",
              "<tr>\n",
              "      <td></td>         <th>coef</th>     <th>std err</th>      <th>z</th>      <th>P>|z|</th>  <th>[0.025</th>    <th>0.975]</th>  \n",
              "</tr>\n",
              "<tr>\n",
              "  <th>intercept</th> <td> -740.2400</td> <td> 1628.282</td> <td>   -0.455</td> <td> 0.649</td> <td>-3931.614</td> <td> 2451.134</td>\n",
              "</tr>\n",
              "<tr>\n",
              "  <th>ar.L1</th>     <td>   -0.4452</td> <td>    0.164</td> <td>   -2.714</td> <td> 0.007</td> <td>   -0.767</td> <td>   -0.124</td>\n",
              "</tr>\n",
              "<tr>\n",
              "  <th>ma.L1</th>     <td>    0.2032</td> <td>    0.179</td> <td>    1.135</td> <td> 0.257</td> <td>   -0.148</td> <td>    0.554</td>\n",
              "</tr>\n",
              "<tr>\n",
              "  <th>ar.S.L12</th>  <td>    0.1502</td> <td>    0.019</td> <td>    7.838</td> <td> 0.000</td> <td>    0.113</td> <td>    0.188</td>\n",
              "</tr>\n",
              "<tr>\n",
              "  <th>sigma2</th>    <td> 2.123e+08</td> <td>    0.024</td> <td> 8.69e+09</td> <td> 0.000</td> <td> 2.12e+08</td> <td> 2.12e+08</td>\n",
              "</tr>\n",
              "</table>\n",
              "<table class=\"simpletable\">\n",
              "<tr>\n",
              "  <th>Ljung-Box (L1) (Q):</th>     <td>10.39</td> <th>  Jarque-Bera (JB):  </th> <td>10.32</td>\n",
              "</tr>\n",
              "<tr>\n",
              "  <th>Prob(Q):</th>                <td>0.00</td>  <th>  Prob(JB):          </th> <td>0.01</td> \n",
              "</tr>\n",
              "<tr>\n",
              "  <th>Heteroskedasticity (H):</th> <td>0.59</td>  <th>  Skew:              </th> <td>-0.48</td>\n",
              "</tr>\n",
              "<tr>\n",
              "  <th>Prob(H) (two-sided):</th>    <td>0.11</td>  <th>  Kurtosis:          </th> <td>4.10</td> \n",
              "</tr>\n",
              "</table><br/><br/>Warnings:<br/>[1] Covariance matrix calculated using the outer product of gradients (complex-step).<br/>[2] Covariance matrix is singular or near-singular, with condition number 5.28e+25. Standard errors may be unstable."
            ]
          },
          "metadata": {},
          "execution_count": 161
        }
      ]
    },
    {
      "cell_type": "code",
      "source": [
        "from sktime.forecasting.base import ForecastingHorizon\n",
        "\n",
        "# преобразуем pd.DataFrame в pd.Series\n",
        "arima_test_ts2 = pd.Series(data=test_ts2.oil_imports.values, index=pd.PeriodIndex(test_ts2.month, freq='M'))\n",
        "\n",
        "# подготовим свой формат для прогноза\n",
        "fh = ForecastingHorizon(arima_test_ts2.index, is_relative=False)\n",
        "\n",
        "# получим прогноз\n",
        "ts2_pred_arima = arima.predict(fh)"
      ],
      "metadata": {
        "id": "5DStkhPhRVZG"
      },
      "execution_count": null,
      "outputs": []
    },
    {
      "cell_type": "code",
      "execution_count": null,
      "metadata": {
        "id": "xVuUqZp5k2LS",
        "colab": {
          "base_uri": "https://localhost:8080/"
        },
        "outputId": "f9d0bf76-7543-4a84-99a3-39c1881ede0c"
      },
      "outputs": [
        {
          "output_type": "execute_result",
          "data": {
            "text/plain": [
              "41661.40441046169"
            ]
          },
          "metadata": {},
          "execution_count": 166
        }
      ],
      "source": [
        "# посчитайте метрики на test\n",
        "arima_mae = mean_absolute_error(test_ts2.oil_imports, ts2_pred_arima)\n",
        "arima_mae "
      ]
    },
    {
      "cell_type": "code",
      "source": [
        "# обучим теперь AutoArima\n",
        "\n",
        "auto_arima = AutoARIMA(start_p=1, d=None, start_q=0, \n",
        "                       max_p=2, max_d=1, max_q=0, \n",
        "                       start_P=1, D=1, start_Q=0, \n",
        "                       max_P=1, max_D=1, max_Q=0, \n",
        "                       suppress_warnings=True, stepwise=False, n_jobs=-1)\n",
        "\n",
        "# обучение модели\n",
        "auto_arima.fit(arima_train_ts2)"
      ],
      "metadata": {
        "id": "39LmB_T8QBWB",
        "colab": {
          "base_uri": "https://localhost:8080/"
        },
        "outputId": "9c3db730-e4df-4620-dec4-660a566741cc"
      },
      "execution_count": null,
      "outputs": [
        {
          "output_type": "execute_result",
          "data": {
            "text/plain": [
              "AutoARIMA(D=1, max_P=1, max_Q=0, max_d=1, max_p=2, max_q=0, n_jobs=-1,\n",
              "          start_Q=0, start_p=1, start_q=0, stepwise=False,\n",
              "          suppress_warnings=True)"
            ]
          },
          "metadata": {},
          "execution_count": 167
        }
      ]
    },
    {
      "cell_type": "code",
      "source": [
        "auto_arima.summary()"
      ],
      "metadata": {
        "colab": {
          "base_uri": "https://localhost:8080/",
          "height": 440
        },
        "id": "lfaK0NzmqSvp",
        "outputId": "749d92d6-1191-4942-ec8a-33f11ed47c43"
      },
      "execution_count": null,
      "outputs": [
        {
          "output_type": "execute_result",
          "data": {
            "text/plain": [
              "<class 'statsmodels.iolib.summary.Summary'>\n",
              "\"\"\"\n",
              "                               SARIMAX Results                                \n",
              "==============================================================================\n",
              "Dep. Variable:                      y   No. Observations:                  116\n",
              "Model:               SARIMAX(1, 1, 0)   Log Likelihood               -1276.953\n",
              "Date:                Sun, 24 Apr 2022   AIC                           2559.907\n",
              "Time:                        13:01:05   BIC                           2568.142\n",
              "Sample:                             0   HQIC                          2563.249\n",
              "                                - 116                                         \n",
              "Covariance Type:                  opg                                         \n",
              "==============================================================================\n",
              "                 coef    std err          z      P>|z|      [0.025      0.975]\n",
              "------------------------------------------------------------------------------\n",
              "intercept   -481.0207   1278.752     -0.376      0.707   -2987.328    2025.287\n",
              "ar.L1         -0.2878      0.018    -16.041      0.000      -0.323      -0.253\n",
              "sigma2      2.171e+08      0.014   1.54e+10      0.000    2.17e+08    2.17e+08\n",
              "===================================================================================\n",
              "Ljung-Box (L1) (Q):                  10.34   Jarque-Bera (JB):                 7.51\n",
              "Prob(Q):                              0.00   Prob(JB):                         0.02\n",
              "Heteroskedasticity (H):               0.62   Skew:                            -0.35\n",
              "Prob(H) (two-sided):                  0.14   Kurtosis:                         4.04\n",
              "===================================================================================\n",
              "\n",
              "Warnings:\n",
              "[1] Covariance matrix calculated using the outer product of gradients (complex-step).\n",
              "[2] Covariance matrix is singular or near-singular, with condition number 3.02e+25. Standard errors may be unstable.\n",
              "\"\"\""
            ],
            "text/html": [
              "<table class=\"simpletable\">\n",
              "<caption>SARIMAX Results</caption>\n",
              "<tr>\n",
              "  <th>Dep. Variable:</th>           <td>y</td>        <th>  No. Observations:  </th>    <td>116</td>   \n",
              "</tr>\n",
              "<tr>\n",
              "  <th>Model:</th>           <td>SARIMAX(1, 1, 0)</td> <th>  Log Likelihood     </th> <td>-1276.953</td>\n",
              "</tr>\n",
              "<tr>\n",
              "  <th>Date:</th>            <td>Sun, 24 Apr 2022</td> <th>  AIC                </th> <td>2559.907</td> \n",
              "</tr>\n",
              "<tr>\n",
              "  <th>Time:</th>                <td>13:01:05</td>     <th>  BIC                </th> <td>2568.142</td> \n",
              "</tr>\n",
              "<tr>\n",
              "  <th>Sample:</th>                  <td>0</td>        <th>  HQIC               </th> <td>2563.249</td> \n",
              "</tr>\n",
              "<tr>\n",
              "  <th></th>                      <td> - 116</td>      <th>                     </th>     <td> </td>    \n",
              "</tr>\n",
              "<tr>\n",
              "  <th>Covariance Type:</th>        <td>opg</td>       <th>                     </th>     <td> </td>    \n",
              "</tr>\n",
              "</table>\n",
              "<table class=\"simpletable\">\n",
              "<tr>\n",
              "      <td></td>         <th>coef</th>     <th>std err</th>      <th>z</th>      <th>P>|z|</th>  <th>[0.025</th>    <th>0.975]</th>  \n",
              "</tr>\n",
              "<tr>\n",
              "  <th>intercept</th> <td> -481.0207</td> <td> 1278.752</td> <td>   -0.376</td> <td> 0.707</td> <td>-2987.328</td> <td> 2025.287</td>\n",
              "</tr>\n",
              "<tr>\n",
              "  <th>ar.L1</th>     <td>   -0.2878</td> <td>    0.018</td> <td>  -16.041</td> <td> 0.000</td> <td>   -0.323</td> <td>   -0.253</td>\n",
              "</tr>\n",
              "<tr>\n",
              "  <th>sigma2</th>    <td> 2.171e+08</td> <td>    0.014</td> <td> 1.54e+10</td> <td> 0.000</td> <td> 2.17e+08</td> <td> 2.17e+08</td>\n",
              "</tr>\n",
              "</table>\n",
              "<table class=\"simpletable\">\n",
              "<tr>\n",
              "  <th>Ljung-Box (L1) (Q):</th>     <td>10.34</td> <th>  Jarque-Bera (JB):  </th> <td>7.51</td> \n",
              "</tr>\n",
              "<tr>\n",
              "  <th>Prob(Q):</th>                <td>0.00</td>  <th>  Prob(JB):          </th> <td>0.02</td> \n",
              "</tr>\n",
              "<tr>\n",
              "  <th>Heteroskedasticity (H):</th> <td>0.62</td>  <th>  Skew:              </th> <td>-0.35</td>\n",
              "</tr>\n",
              "<tr>\n",
              "  <th>Prob(H) (two-sided):</th>    <td>0.14</td>  <th>  Kurtosis:          </th> <td>4.04</td> \n",
              "</tr>\n",
              "</table><br/><br/>Warnings:<br/>[1] Covariance matrix calculated using the outer product of gradients (complex-step).<br/>[2] Covariance matrix is singular or near-singular, with condition number 3.02e+25. Standard errors may be unstable."
            ]
          },
          "metadata": {},
          "execution_count": 168
        }
      ]
    },
    {
      "cell_type": "code",
      "source": [
        "# получим прогноз\n",
        "ts2_pred_auto_arima = auto_arima.predict(fh)\n",
        "\n",
        "auto_arima_mae = mean_absolute_error(test_ts2.oil_imports, ts2_pred_auto_arima)\n",
        "auto_arima_mae "
      ],
      "metadata": {
        "colab": {
          "base_uri": "https://localhost:8080/"
        },
        "id": "C-8JJWrqqciQ",
        "outputId": "6e92fc25-3da5-40e7-808f-c8150f9b8ad5"
      },
      "execution_count": null,
      "outputs": [
        {
          "output_type": "execute_result",
          "data": {
            "text/plain": [
              "44848.965133371974"
            ]
          },
          "metadata": {},
          "execution_count": 171
        }
      ]
    },
    {
      "cell_type": "markdown",
      "metadata": {
        "id": "gStdA0Lelhvc"
      },
      "source": [
        "### LGT/DLT (1 балл).\n",
        "\n",
        "Обучите из библиотеки `orbit` модели LGT и DLT"
      ]
    },
    {
      "cell_type": "code",
      "execution_count": null,
      "metadata": {
        "id": "4OPLh7ddAVOr",
        "colab": {
          "base_uri": "https://localhost:8080/",
          "height": 258
        },
        "outputId": "375a8030-2c27-4c99-89fd-62c5767ac24a"
      },
      "outputs": [
        {
          "output_type": "stream",
          "name": "stderr",
          "text": [
            "INFO:pystan:COMPILING THE C++ CODE FOR MODEL anon_model_05ff738ef22ce2e8a332ce639cee65cf NOW.\n",
            "WARNING:pystan:n_eff / iter below 0.001 indicates that the effective sample size has likely been overestimated\n",
            "WARNING:pystan:Rhat above 1.1 or below 0.9 indicates that the chains very likely have not mixed\n"
          ]
        },
        {
          "output_type": "execute_result",
          "data": {
            "text/plain": [
              "        month   prediction_5     prediction  prediction_95\n",
              "0  2018-09-01  226461.211119  249895.468172  272417.198449\n",
              "1  2018-10-01  222614.770176  248623.454192  280989.396466\n",
              "2  2018-11-01  214695.951604  251755.253787  279983.418017\n",
              "3  2018-12-01  217782.244037  247921.147735  280737.768586\n",
              "4  2019-01-01  220588.832765  248739.194534  281436.890719"
            ],
            "text/html": [
              "\n",
              "  <div id=\"df-1e8e6f03-0e4c-4979-b4ca-e40925385551\">\n",
              "    <div class=\"colab-df-container\">\n",
              "      <div>\n",
              "<style scoped>\n",
              "    .dataframe tbody tr th:only-of-type {\n",
              "        vertical-align: middle;\n",
              "    }\n",
              "\n",
              "    .dataframe tbody tr th {\n",
              "        vertical-align: top;\n",
              "    }\n",
              "\n",
              "    .dataframe thead th {\n",
              "        text-align: right;\n",
              "    }\n",
              "</style>\n",
              "<table border=\"1\" class=\"dataframe\">\n",
              "  <thead>\n",
              "    <tr style=\"text-align: right;\">\n",
              "      <th></th>\n",
              "      <th>month</th>\n",
              "      <th>prediction_5</th>\n",
              "      <th>prediction</th>\n",
              "      <th>prediction_95</th>\n",
              "    </tr>\n",
              "  </thead>\n",
              "  <tbody>\n",
              "    <tr>\n",
              "      <th>0</th>\n",
              "      <td>2018-09-01</td>\n",
              "      <td>226461.211119</td>\n",
              "      <td>249895.468172</td>\n",
              "      <td>272417.198449</td>\n",
              "    </tr>\n",
              "    <tr>\n",
              "      <th>1</th>\n",
              "      <td>2018-10-01</td>\n",
              "      <td>222614.770176</td>\n",
              "      <td>248623.454192</td>\n",
              "      <td>280989.396466</td>\n",
              "    </tr>\n",
              "    <tr>\n",
              "      <th>2</th>\n",
              "      <td>2018-11-01</td>\n",
              "      <td>214695.951604</td>\n",
              "      <td>251755.253787</td>\n",
              "      <td>279983.418017</td>\n",
              "    </tr>\n",
              "    <tr>\n",
              "      <th>3</th>\n",
              "      <td>2018-12-01</td>\n",
              "      <td>217782.244037</td>\n",
              "      <td>247921.147735</td>\n",
              "      <td>280737.768586</td>\n",
              "    </tr>\n",
              "    <tr>\n",
              "      <th>4</th>\n",
              "      <td>2019-01-01</td>\n",
              "      <td>220588.832765</td>\n",
              "      <td>248739.194534</td>\n",
              "      <td>281436.890719</td>\n",
              "    </tr>\n",
              "  </tbody>\n",
              "</table>\n",
              "</div>\n",
              "      <button class=\"colab-df-convert\" onclick=\"convertToInteractive('df-1e8e6f03-0e4c-4979-b4ca-e40925385551')\"\n",
              "              title=\"Convert this dataframe to an interactive table.\"\n",
              "              style=\"display:none;\">\n",
              "        \n",
              "  <svg xmlns=\"http://www.w3.org/2000/svg\" height=\"24px\"viewBox=\"0 0 24 24\"\n",
              "       width=\"24px\">\n",
              "    <path d=\"M0 0h24v24H0V0z\" fill=\"none\"/>\n",
              "    <path d=\"M18.56 5.44l.94 2.06.94-2.06 2.06-.94-2.06-.94-.94-2.06-.94 2.06-2.06.94zm-11 1L8.5 8.5l.94-2.06 2.06-.94-2.06-.94L8.5 2.5l-.94 2.06-2.06.94zm10 10l.94 2.06.94-2.06 2.06-.94-2.06-.94-.94-2.06-.94 2.06-2.06.94z\"/><path d=\"M17.41 7.96l-1.37-1.37c-.4-.4-.92-.59-1.43-.59-.52 0-1.04.2-1.43.59L10.3 9.45l-7.72 7.72c-.78.78-.78 2.05 0 2.83L4 21.41c.39.39.9.59 1.41.59.51 0 1.02-.2 1.41-.59l7.78-7.78 2.81-2.81c.8-.78.8-2.07 0-2.86zM5.41 20L4 18.59l7.72-7.72 1.47 1.35L5.41 20z\"/>\n",
              "  </svg>\n",
              "      </button>\n",
              "      \n",
              "  <style>\n",
              "    .colab-df-container {\n",
              "      display:flex;\n",
              "      flex-wrap:wrap;\n",
              "      gap: 12px;\n",
              "    }\n",
              "\n",
              "    .colab-df-convert {\n",
              "      background-color: #E8F0FE;\n",
              "      border: none;\n",
              "      border-radius: 50%;\n",
              "      cursor: pointer;\n",
              "      display: none;\n",
              "      fill: #1967D2;\n",
              "      height: 32px;\n",
              "      padding: 0 0 0 0;\n",
              "      width: 32px;\n",
              "    }\n",
              "\n",
              "    .colab-df-convert:hover {\n",
              "      background-color: #E2EBFA;\n",
              "      box-shadow: 0px 1px 2px rgba(60, 64, 67, 0.3), 0px 1px 3px 1px rgba(60, 64, 67, 0.15);\n",
              "      fill: #174EA6;\n",
              "    }\n",
              "\n",
              "    [theme=dark] .colab-df-convert {\n",
              "      background-color: #3B4455;\n",
              "      fill: #D2E3FC;\n",
              "    }\n",
              "\n",
              "    [theme=dark] .colab-df-convert:hover {\n",
              "      background-color: #434B5C;\n",
              "      box-shadow: 0px 1px 3px 1px rgba(0, 0, 0, 0.15);\n",
              "      filter: drop-shadow(0px 1px 2px rgba(0, 0, 0, 0.3));\n",
              "      fill: #FFFFFF;\n",
              "    }\n",
              "  </style>\n",
              "\n",
              "      <script>\n",
              "        const buttonEl =\n",
              "          document.querySelector('#df-1e8e6f03-0e4c-4979-b4ca-e40925385551 button.colab-df-convert');\n",
              "        buttonEl.style.display =\n",
              "          google.colab.kernel.accessAllowed ? 'block' : 'none';\n",
              "\n",
              "        async function convertToInteractive(key) {\n",
              "          const element = document.querySelector('#df-1e8e6f03-0e4c-4979-b4ca-e40925385551');\n",
              "          const dataTable =\n",
              "            await google.colab.kernel.invokeFunction('convertToInteractive',\n",
              "                                                     [key], {});\n",
              "          if (!dataTable) return;\n",
              "\n",
              "          const docLinkHtml = 'Like what you see? Visit the ' +\n",
              "            '<a target=\"_blank\" href=https://colab.research.google.com/notebooks/data_table.ipynb>data table notebook</a>'\n",
              "            + ' to learn more about interactive tables.';\n",
              "          element.innerHTML = '';\n",
              "          dataTable['output_type'] = 'display_data';\n",
              "          await google.colab.output.renderOutput(dataTable, element);\n",
              "          const docLink = document.createElement('div');\n",
              "          docLink.innerHTML = docLinkHtml;\n",
              "          element.appendChild(docLink);\n",
              "        }\n",
              "      </script>\n",
              "    </div>\n",
              "  </div>\n",
              "  "
            ]
          },
          "metadata": {},
          "execution_count": 198
        }
      ],
      "source": [
        "from orbit.models import LGT\n",
        "from orbit.models import DLT\n",
        "\n",
        "# ваш код обучения моделей здесь\n",
        "dlt = DLT(\n",
        "    response_col='oil_imports', \n",
        "    date_col='month',\n",
        "    # seasonality=52 \n",
        ")\n",
        "\n",
        "# обучаем модель\n",
        "dlt.fit(df=train_ts2)\n",
        "\n",
        "# делаем прогноз\n",
        "ts2_pred_dlt = dlt.predict(df=test_ts2)\n",
        "\n",
        "# выводим таблицу прогноза (прогноз и его доверительные интервалы)\n",
        "ts2_pred_dlt.head() "
      ]
    },
    {
      "cell_type": "code",
      "source": [
        "# посчитайте метрики на test \n",
        "dlt_mae = mean_absolute_error(test_ts2.oil_imports, ts2_pred_dlt.prediction)\n",
        "dlt_mae"
      ],
      "metadata": {
        "colab": {
          "base_uri": "https://localhost:8080/"
        },
        "id": "SNgSx7GD2mAu",
        "outputId": "6559402c-d6ef-4326-ac11-d085288c2619"
      },
      "execution_count": null,
      "outputs": [
        {
          "output_type": "execute_result",
          "data": {
            "text/plain": [
              "56207.269005607595"
            ]
          },
          "metadata": {},
          "execution_count": 199
        }
      ]
    },
    {
      "cell_type": "code",
      "source": [
        "# проделаем то же самое для LGT\n",
        "lgt = DLT(\n",
        "    response_col='oil_imports', \n",
        "    date_col='month',\n",
        "    estimator='stan-map',\n",
        "    # seasonality=52,\n",
        "    seed=8888\n",
        ")\n",
        "\n",
        "# обучаем модель\n",
        "lgt.fit(df=train_ts2)\n",
        "\n",
        "# делаем прогноз\n",
        "ts2_pred_lgt = lgt.predict(df=test_ts2)\n",
        "\n",
        "# посчитайте метрики на test\n",
        "lgt_mae = mean_absolute_error(test_ts2.oil_imports, ts2_pred_lgt.prediction)\n",
        "lgt_mae "
      ],
      "metadata": {
        "colab": {
          "base_uri": "https://localhost:8080/"
        },
        "id": "NVkaShrmfkL7",
        "outputId": "cb26f004-c76a-4ab2-ac47-3054930a0050"
      },
      "execution_count": null,
      "outputs": [
        {
          "output_type": "execute_result",
          "data": {
            "text/plain": [
              "49598.00062452619"
            ]
          },
          "metadata": {},
          "execution_count": 45
        }
      ]
    },
    {
      "cell_type": "markdown",
      "metadata": {
        "id": "djQ5Ej_Ql-tK"
      },
      "source": [
        "### ETS (1 балл).\n",
        "\n",
        "Обучите из библиотеки `sktime` модели:\n",
        "\n",
        "* ETS(AAA) (`ExponentialSmoothing` в `sktime`)\n",
        "* ETS с автоматическим выбором по AIC (`AutoETS` в `sktime`)"
      ]
    },
    {
      "cell_type": "code",
      "execution_count": null,
      "metadata": {
        "id": "bufbWl7lmRq5",
        "colab": {
          "base_uri": "https://localhost:8080/"
        },
        "outputId": "48416a2f-5cfa-4901-9c5d-76a53e6e1e8b"
      },
      "outputs": [
        {
          "output_type": "stream",
          "name": "stderr",
          "text": [
            "/usr/local/lib/python3.7/dist-packages/statsmodels/tsa/holtwinters/model.py:917: ConvergenceWarning: Optimization failed to converge. Check mle_retvals.\n",
            "  ConvergenceWarning,\n"
          ]
        }
      ],
      "source": [
        "from sktime.forecasting.exp_smoothing import ExponentialSmoothing \n",
        "from sktime.forecasting.ets import AutoETS \n",
        "\n",
        "# ваш код обучения моделей здесь\n",
        "ets = ExponentialSmoothing(trend='additive', seasonal='additive')#, sp=1)\n",
        "ets.fit(arima_train_ts2)\n",
        "\n",
        "ts2_pred_ets = ets.predict(fh)"
      ]
    },
    {
      "cell_type": "code",
      "execution_count": null,
      "metadata": {
        "id": "3rZPu6X-myIH",
        "colab": {
          "base_uri": "https://localhost:8080/"
        },
        "outputId": "4552c9c5-8519-4b6a-c5a8-b157cedadc57"
      },
      "outputs": [
        {
          "output_type": "execute_result",
          "data": {
            "text/plain": [
              "37488.205023972754"
            ]
          },
          "metadata": {},
          "execution_count": 173
        }
      ],
      "source": [
        "# посчитайте метрики на test\n",
        "ets_mae = mean_absolute_error(test_ts2.oil_imports, ts2_pred_ets)\n",
        "ets_mae "
      ]
    },
    {
      "cell_type": "code",
      "source": [
        "# теперь то же самое для AutoETS\n",
        "auto_ets = AutoETS(auto=True, n_jobs=-1)#, sp=1)\n",
        "auto_ets.fit(arima_train_ts2)\n",
        "\n",
        "ts2_pred_auto_ets = auto_ets.predict(fh)\n",
        "\n",
        "auto_ets_mae = mean_absolute_error(test_ts2.oil_imports, ts2_pred_auto_ets)\n",
        "auto_ets_mae "
      ],
      "metadata": {
        "colab": {
          "base_uri": "https://localhost:8080/"
        },
        "id": "Nn9pDOYHtPCY",
        "outputId": "4a72ed0c-916d-4f46-af0a-4e737e48bbcd"
      },
      "execution_count": null,
      "outputs": [
        {
          "output_type": "execute_result",
          "data": {
            "text/plain": [
              "48825.723970773084"
            ]
          },
          "metadata": {},
          "execution_count": 174
        }
      ]
    },
    {
      "cell_type": "markdown",
      "metadata": {
        "id": "VBWcts9zm6_R"
      },
      "source": [
        "Нарисуйте для наилучшей модели предсказания с доверительным интервалом (если модель выдает его) и наложите их на истинные значения. В `sktime` `ETS` модель пока ещё не выдаёт доверительные интервалы, но при желании до них можно дотянуться :)"
      ]
    },
    {
      "cell_type": "markdown",
      "source": [
        "Лучше всего себя показала ETS модель."
      ],
      "metadata": {
        "id": "RmlmsEcJt3pU"
      }
    },
    {
      "cell_type": "code",
      "source": [
        "# upper_int = ts2_pred_ets.quantile(q=0.9)"
      ],
      "metadata": {
        "id": "48BcHsnRxZKx"
      },
      "execution_count": null,
      "outputs": []
    },
    {
      "cell_type": "code",
      "execution_count": null,
      "metadata": {
        "id": "ywyajRSonIld",
        "colab": {
          "base_uri": "https://localhost:8080/",
          "height": 295
        },
        "outputId": "722af99d-7fc3-4007-f5bd-1f5847dcbda3"
      },
      "outputs": [
        {
          "output_type": "display_data",
          "data": {
            "text/plain": [
              "<Figure size 864x288 with 1 Axes>"
            ],
            "image/png": "[encoded data removed]"
          },
          "metadata": {
            "needs_background": "light"
          }
        }
      ],
      "source": [
        "# нарисуйте пресказания\n",
        "\n",
        "plt.figure(figsize=(12, 4))\n",
        "plt.plot(train_ts2.month, train_ts2.oil_imports, 'black', label='Previous data')\n",
        "plt.plot([train_ts2.iloc[-1, 0], train_ts2.iloc[-1, 0]], [ts2.oil_imports.min(), ts2.oil_imports.max()], 'grey', linestyle='--')\n",
        "plt.plot(test_ts2.month, ts2_pred_ets.values, 'pink', label='Predictions')\n",
        "plt.plot(test_ts2.month, test_ts2.oil_imports, 'green', label='Real data')\n",
        "plt.xlabel('Time')\n",
        "plt.ylabel('Oil imports')\n",
        "plt.title('Predictions and real values of imports of all grades of crude oil from World to Total U.S. (US), Monthly')\n",
        "plt.legend()\n",
        "plt.show()\n",
        "\n",
        "# from orbit.diagnostics.plot import plot_predicted_data\n",
        "\n",
        "# plot_predicted_data(\n",
        "#     training_actual_df=pd.DataFrame(train_ts2, columns=['oil_imports']), predicted_df=pd.DataFrame(ts2_pred_ets, columns=['oil_imports']),\n",
        "#     date_col=dlt.date_col, actual_col=dlt.response_col,\n",
        "#     # date_col=arima_train_ts2.index.values, actual_col=arima_train_ts2.values,\n",
        "#     test_actual_df=pd.DataFrame(arima_test_ts2, columns=['oil_imports'])\n",
        "# )"
      ]
    },
    {
      "cell_type": "markdown",
      "metadata": {
        "id": "9zOIFtBCng_F"
      },
      "source": [
        "## Задание 4. Предсказание дневного временного ряда (3 балла).\n",
        "\n",
        "В этом задании Вам предстоит попробовать предсказать выбранный Вами дневной временной ряд.\n",
        "\n",
        "Аналогично, в качестве метрики используем MAE.\n",
        "\n"
      ]
    },
    {
      "cell_type": "markdown",
      "metadata": {
        "id": "yi4Xtcnpn90l"
      },
      "source": [
        "### NaiveForecaster из sktime (1 балл).\n",
        "\n",
        "Посчитайте предсказания следующими двумя наивными способами:\n",
        "\n",
        "* $\\hat{y}_{t+1} = y_{t}$\n",
        "* $\\hat{y}_{t+1} = y_{t-seasonality+1}$"
      ]
    },
    {
      "cell_type": "code",
      "execution_count": null,
      "metadata": {
        "id": "nlWt52e6nz6p"
      },
      "outputs": [],
      "source": [
        "from sktime.forecasting.naive import NaiveForecaster\n",
        "\n",
        "# ваш код обучения моделей здесь\n",
        "native_forecaster = NaiveForecaster(strategy='last', sp=1)\n",
        "native_forecaster.fit(train_ts1.nuclear_capacity) \n",
        "\n",
        "ts1_pred_native = native_forecaster.predict(list(range(1, test_size_1 + 1)))"
      ]
    },
    {
      "cell_type": "code",
      "execution_count": null,
      "metadata": {
        "id": "fgN3g8C0oBbd",
        "colab": {
          "base_uri": "https://localhost:8080/"
        },
        "outputId": "2a744b55-34d9-4acf-f972-b310e92ae7e2"
      },
      "outputs": [
        {
          "output_type": "execute_result",
          "data": {
            "text/plain": [
              "1665.9701435406728"
            ]
          },
          "metadata": {},
          "execution_count": 13
        }
      ],
      "source": [
        "# посчитайте метрики на test\n",
        "native_forecaster_mae = mean_absolute_error(test_ts1.nuclear_capacity, ts1_pred_native)\n",
        "native_forecaster_mae "
      ]
    },
    {
      "cell_type": "code",
      "source": [
        "# проделаем то же самое для второго наивного способа, seasonality = 365 days \n",
        "native_forecaster_s = NaiveForecaster(strategy='last', sp=365)\n",
        "native_forecaster_s.fit(train_ts1.nuclear_capacity)\n",
        "\n",
        "ts1_pred_native_s = native_forecaster_s.predict(list(range(1, test_size_1 + 1)))\n",
        "\n",
        "native_forecaster_s_mae = mean_absolute_error(test_ts1.nuclear_capacity, ts1_pred_native_s)\n",
        "native_forecaster_s_mae "
      ],
      "metadata": {
        "colab": {
          "base_uri": "https://localhost:8080/"
        },
        "id": "VdRz09KGfJrl",
        "outputId": "04051b27-4ee8-4b51-e7c0-a21eb870c971"
      },
      "execution_count": null,
      "outputs": [
        {
          "output_type": "execute_result",
          "data": {
            "text/plain": [
              "2043.1231578947388"
            ]
          },
          "metadata": {},
          "execution_count": 16
        }
      ]
    },
    {
      "cell_type": "code",
      "source": [
        "# попробуем так же посмотреть на такую сезонность: seasonality = 7 days\n",
        "native_forecaster_ss = NaiveForecaster(strategy='last', sp=7)\n",
        "native_forecaster_ss.fit(train_ts1.nuclear_capacity)\n",
        "\n",
        "ts1_pred_native_ss = native_forecaster_ss.predict(list(range(1, test_size_1 + 1)))\n",
        "\n",
        "native_forecaster_ss_mae = mean_absolute_error(test_ts1.nuclear_capacity, ts1_pred_native_ss)\n",
        "native_forecaster_ss_mae "
      ],
      "metadata": {
        "colab": {
          "base_uri": "https://localhost:8080/"
        },
        "id": "GbkIguFeg6jH",
        "outputId": "06fd3caf-7411-4469-82c2-d805c5798cda"
      },
      "execution_count": null,
      "outputs": [
        {
          "output_type": "execute_result",
          "data": {
            "text/plain": [
              "1665.9701435406728"
            ]
          },
          "metadata": {},
          "execution_count": 17
        }
      ]
    },
    {
      "cell_type": "markdown",
      "metadata": {
        "id": "F9SxF6cKoHI-"
      },
      "source": [
        "### KTR из orbit (1 балл).\n",
        "\n"
      ]
    },
    {
      "cell_type": "code",
      "execution_count": null,
      "metadata": {
        "id": "IM1ELnZnoe_k",
        "colab": {
          "base_uri": "https://localhost:8080/"
        },
        "outputId": "60e78007-fdea-409c-f3db-aa230a4e61e9"
      },
      "outputs": [
        {
          "output_type": "stream",
          "name": "stderr",
          "text": [
            "INFO:pystan:COMPILING THE C++ CODE FOR MODEL anon_model_ce583eb84b35032d795f7056cd3c761e NOW.\n",
            "INFO:root:Guessed max_plate_nesting = 1\n"
          ]
        },
        {
          "output_type": "execute_result",
          "data": {
            "text/plain": [
              "<orbit.forecaster.svi.SVIForecaster at 0x7f676a725b10>"
            ]
          },
          "metadata": {},
          "execution_count": 136
        }
      ],
      "source": [
        "from orbit.models import KTR \n",
        "\n",
        "# ваш код обучения моделей здесь\n",
        "ktr = KTR(\n",
        "    response_col='nuclear_capacity',\n",
        "    date_col='day',\n",
        "    prediction_percentiles=[5.0, 95.0],\n",
        "    seed=2021 \n",
        ")\n",
        "ktr.fit(df=train_ts1)"
      ]
    },
    {
      "cell_type": "code",
      "source": [
        "# посчитайте метрики на test\n",
        "ts1_pred_ktr = ktr.predict(test_ts1)\n",
        "\n",
        "ktr_mae = mean_absolute_error(test_ts1.nuclear_capacity, ts1_pred_ktr.prediction)\n",
        "ktr_mae "
      ],
      "metadata": {
        "colab": {
          "base_uri": "https://localhost:8080/"
        },
        "id": "ElId8f9FZGiT",
        "outputId": "6b0fed6b-0030-4181-fec3-a714b2010063"
      },
      "execution_count": null,
      "outputs": [
        {
          "output_type": "execute_result",
          "data": {
            "text/plain": [
              "2482.6573198985166"
            ]
          },
          "metadata": {},
          "execution_count": 140
        }
      ]
    },
    {
      "cell_type": "code",
      "source": [
        "# попробуем взять KTRLite\n",
        "from orbit.models.ktrlite import KTRLite\n",
        "\n",
        "ktr_lite = KTRLite(\n",
        "    response_col='nuclear_capacity',\n",
        "    date_col='day',\n",
        "    prediction_percentiles=[5.0, 95.0],\n",
        "    seed=2021\n",
        ")\n",
        "ktr_lite.fit(df=train_ts1)\n",
        "\n",
        "ts1_pred_ktr_lite = ktr_lite.predict(test_ts1)\n",
        "\n",
        "ktr_lite_mae = mean_absolute_error(test_ts1.nuclear_capacity, ts1_pred_ktr_lite.prediction)\n",
        "ktr_lite_mae "
      ],
      "metadata": {
        "id": "Z5_yFdknZhTJ",
        "colab": {
          "base_uri": "https://localhost:8080/"
        },
        "outputId": "7d0877f2-a3d5-4a6e-d736-dbfe6f1e2a0b"
      },
      "execution_count": null,
      "outputs": [
        {
          "output_type": "execute_result",
          "data": {
            "text/plain": [
              "2487.7528598981166"
            ]
          },
          "metadata": {},
          "execution_count": 144
        }
      ]
    },
    {
      "cell_type": "markdown",
      "metadata": {
        "id": "tB4yA3O5pkOG"
      },
      "source": [
        "### Phophet (1 балл).\n",
        "\n"
      ]
    },
    {
      "cell_type": "code",
      "execution_count": null,
      "metadata": {
        "id": "vXN-TgC5ps4p",
        "colab": {
          "base_uri": "https://localhost:8080/"
        },
        "outputId": "507c2ff4-ad6d-4945-b3d2-a2a651a93b48"
      },
      "outputs": [
        {
          "output_type": "stream",
          "name": "stderr",
          "text": [
            "INFO:prophet:Disabling daily seasonality. Run prophet with daily_seasonality=True to override this.\n"
          ]
        },
        {
          "output_type": "execute_result",
          "data": {
            "text/plain": [
              "<prophet.forecaster.Prophet at 0x7f67d679d850>"
            ]
          },
          "metadata": {},
          "execution_count": 7
        }
      ],
      "source": [
        "from prophet import Prophet \n",
        "\n",
        "# ваш код обучения моделей здесь\n",
        "\n",
        "# приведем временной ряд к нужному формату\n",
        "train_ts1_prophet = train_ts1[['day', 'nuclear_capacity']]\n",
        "train_ts1_prophet.columns = ['ds', 'y']\n",
        "\n",
        "# инициализируем модель\n",
        "model = Prophet(interval_width=0.9)\n",
        "\n",
        "# обучаем модель\n",
        "model.fit(train_ts1_prophet)"
      ]
    },
    {
      "cell_type": "code",
      "source": [
        "# сделаем прогноз\n",
        "future = test_ts1[['day']]\n",
        "future.columns = ['ds']\n",
        "\n",
        "forecast = model.predict(future)\n",
        "forecast[['ds', 'yhat', 'yhat_lower', 'yhat_upper']].head()"
      ],
      "metadata": {
        "colab": {
          "base_uri": "https://localhost:8080/",
          "height": 206
        },
        "id": "I_QDMTkqWcVt",
        "outputId": "d8ff14c9-4105-4395-dd1e-e760c1be1b70"
      },
      "execution_count": null,
      "outputs": [
        {
          "output_type": "execute_result",
          "data": {
            "text/plain": [
              "          ds          yhat    yhat_lower     yhat_upper\n",
              "0 2018-06-12  99864.258103  99227.492852  100506.013074\n",
              "1 2018-06-13  99865.628627  99158.101555  100536.125224\n",
              "2 2018-06-14  99866.327522  99216.309152  100498.582829\n",
              "3 2018-06-15  99850.603917  99239.409199  100465.943769\n",
              "4 2018-06-16  99760.974176  99055.908164  100476.345949"
            ],
            "text/html": [
              "\n",
              "  <div id=\"df-63b79e07-4ccb-41ad-aac7-bc501d3820f8\">\n",
              "    <div class=\"colab-df-container\">\n",
              "      <div>\n",
              "<style scoped>\n",
              "    .dataframe tbody tr th:only-of-type {\n",
              "        vertical-align: middle;\n",
              "    }\n",
              "\n",
              "    .dataframe tbody tr th {\n",
              "        vertical-align: top;\n",
              "    }\n",
              "\n",
              "    .dataframe thead th {\n",
              "        text-align: right;\n",
              "    }\n",
              "</style>\n",
              "<table border=\"1\" class=\"dataframe\">\n",
              "  <thead>\n",
              "    <tr style=\"text-align: right;\">\n",
              "      <th></th>\n",
              "      <th>ds</th>\n",
              "      <th>yhat</th>\n",
              "      <th>yhat_lower</th>\n",
              "      <th>yhat_upper</th>\n",
              "    </tr>\n",
              "  </thead>\n",
              "  <tbody>\n",
              "    <tr>\n",
              "      <th>0</th>\n",
              "      <td>2018-06-12</td>\n",
              "      <td>99864.258103</td>\n",
              "      <td>99227.492852</td>\n",
              "      <td>100506.013074</td>\n",
              "    </tr>\n",
              "    <tr>\n",
              "      <th>1</th>\n",
              "      <td>2018-06-13</td>\n",
              "      <td>99865.628627</td>\n",
              "      <td>99158.101555</td>\n",
              "      <td>100536.125224</td>\n",
              "    </tr>\n",
              "    <tr>\n",
              "      <th>2</th>\n",
              "      <td>2018-06-14</td>\n",
              "      <td>99866.327522</td>\n",
              "      <td>99216.309152</td>\n",
              "      <td>100498.582829</td>\n",
              "    </tr>\n",
              "    <tr>\n",
              "      <th>3</th>\n",
              "      <td>2018-06-15</td>\n",
              "      <td>99850.603917</td>\n",
              "      <td>99239.409199</td>\n",
              "      <td>100465.943769</td>\n",
              "    </tr>\n",
              "    <tr>\n",
              "      <th>4</th>\n",
              "      <td>2018-06-16</td>\n",
              "      <td>99760.974176</td>\n",
              "      <td>99055.908164</td>\n",
              "      <td>100476.345949</td>\n",
              "    </tr>\n",
              "  </tbody>\n",
              "</table>\n",
              "</div>\n",
              "      <button class=\"colab-df-convert\" onclick=\"convertToInteractive('df-63b79e07-4ccb-41ad-aac7-bc501d3820f8')\"\n",
              "              title=\"Convert this dataframe to an interactive table.\"\n",
              "              style=\"display:none;\">\n",
              "        \n",
              "  <svg xmlns=\"http://www.w3.org/2000/svg\" height=\"24px\"viewBox=\"0 0 24 24\"\n",
              "       width=\"24px\">\n",
              "    <path d=\"M0 0h24v24H0V0z\" fill=\"none\"/>\n",
              "    <path d=\"M18.56 5.44l.94 2.06.94-2.06 2.06-.94-2.06-.94-.94-2.06-.94 2.06-2.06.94zm-11 1L8.5 8.5l.94-2.06 2.06-.94-2.06-.94L8.5 2.5l-.94 2.06-2.06.94zm10 10l.94 2.06.94-2.06 2.06-.94-2.06-.94-.94-2.06-.94 2.06-2.06.94z\"/><path d=\"M17.41 7.96l-1.37-1.37c-.4-.4-.92-.59-1.43-.59-.52 0-1.04.2-1.43.59L10.3 9.45l-7.72 7.72c-.78.78-.78 2.05 0 2.83L4 21.41c.39.39.9.59 1.41.59.51 0 1.02-.2 1.41-.59l7.78-7.78 2.81-2.81c.8-.78.8-2.07 0-2.86zM5.41 20L4 18.59l7.72-7.72 1.47 1.35L5.41 20z\"/>\n",
              "  </svg>\n",
              "      </button>\n",
              "      \n",
              "  <style>\n",
              "    .colab-df-container {\n",
              "      display:flex;\n",
              "      flex-wrap:wrap;\n",
              "      gap: 12px;\n",
              "    }\n",
              "\n",
              "    .colab-df-convert {\n",
              "      background-color: #E8F0FE;\n",
              "      border: none;\n",
              "      border-radius: 50%;\n",
              "      cursor: pointer;\n",
              "      display: none;\n",
              "      fill: #1967D2;\n",
              "      height: 32px;\n",
              "      padding: 0 0 0 0;\n",
              "      width: 32px;\n",
              "    }\n",
              "\n",
              "    .colab-df-convert:hover {\n",
              "      background-color: #E2EBFA;\n",
              "      box-shadow: 0px 1px 2px rgba(60, 64, 67, 0.3), 0px 1px 3px 1px rgba(60, 64, 67, 0.15);\n",
              "      fill: #174EA6;\n",
              "    }\n",
              "\n",
              "    [theme=dark] .colab-df-convert {\n",
              "      background-color: #3B4455;\n",
              "      fill: #D2E3FC;\n",
              "    }\n",
              "\n",
              "    [theme=dark] .colab-df-convert:hover {\n",
              "      background-color: #434B5C;\n",
              "      box-shadow: 0px 1px 3px 1px rgba(0, 0, 0, 0.15);\n",
              "      filter: drop-shadow(0px 1px 2px rgba(0, 0, 0, 0.3));\n",
              "      fill: #FFFFFF;\n",
              "    }\n",
              "  </style>\n",
              "\n",
              "      <script>\n",
              "        const buttonEl =\n",
              "          document.querySelector('#df-63b79e07-4ccb-41ad-aac7-bc501d3820f8 button.colab-df-convert');\n",
              "        buttonEl.style.display =\n",
              "          google.colab.kernel.accessAllowed ? 'block' : 'none';\n",
              "\n",
              "        async function convertToInteractive(key) {\n",
              "          const element = document.querySelector('#df-63b79e07-4ccb-41ad-aac7-bc501d3820f8');\n",
              "          const dataTable =\n",
              "            await google.colab.kernel.invokeFunction('convertToInteractive',\n",
              "                                                     [key], {});\n",
              "          if (!dataTable) return;\n",
              "\n",
              "          const docLinkHtml = 'Like what you see? Visit the ' +\n",
              "            '<a target=\"_blank\" href=https://colab.research.google.com/notebooks/data_table.ipynb>data table notebook</a>'\n",
              "            + ' to learn more about interactive tables.';\n",
              "          element.innerHTML = '';\n",
              "          dataTable['output_type'] = 'display_data';\n",
              "          await google.colab.output.renderOutput(dataTable, element);\n",
              "          const docLink = document.createElement('div');\n",
              "          docLink.innerHTML = docLinkHtml;\n",
              "          element.appendChild(docLink);\n",
              "        }\n",
              "      </script>\n",
              "    </div>\n",
              "  </div>\n",
              "  "
            ]
          },
          "metadata": {},
          "execution_count": 8
        }
      ]
    },
    {
      "cell_type": "code",
      "source": [
        "# даже можем вывести компоненты прогноза\n",
        "fig2 = model.plot_components(forecast)"
      ],
      "metadata": {
        "colab": {
          "base_uri": "https://localhost:8080/",
          "height": 657
        },
        "id": "dTUmFNcGW_IM",
        "outputId": "c50503e9-0e81-4aca-8115-b263847a1fc4"
      },
      "execution_count": null,
      "outputs": [
        {
          "output_type": "display_data",
          "data": {
            "text/plain": [
              "<Figure size 648x648 with 3 Axes>"
            ],
            "image/png": "[encoded data removed]"
          },
          "metadata": {}
        }
      ]
    },
    {
      "cell_type": "code",
      "execution_count": null,
      "metadata": {
        "id": "_72XL9Q1pvLB",
        "colab": {
          "base_uri": "https://localhost:8080/"
        },
        "outputId": "b62dc4b9-cde9-40a5-b9d5-eda36e0458f2"
      },
      "outputs": [
        {
          "output_type": "execute_result",
          "data": {
            "text/plain": [
              "2110.629616647372"
            ]
          },
          "metadata": {},
          "execution_count": 11
        }
      ],
      "source": [
        "# посчитайте метрики на test\n",
        "prophet_mae = mean_absolute_error(test_ts1.nuclear_capacity, forecast.yhat)\n",
        "prophet_mae"
      ]
    },
    {
      "cell_type": "markdown",
      "metadata": {
        "id": "h2vnQTxOqR_b"
      },
      "source": [
        "Нарисуйте для наилучшей модели предсказания с доверительным интервалом (если модель выдает его) и наложите их на истинные значения."
      ]
    },
    {
      "cell_type": "code",
      "execution_count": null,
      "metadata": {
        "id": "qUR6CFvNqUnA",
        "colab": {
          "base_uri": "https://localhost:8080/",
          "height": 295
        },
        "outputId": "3a9ed6c8-3f8c-495e-a84c-46093407651d"
      },
      "outputs": [
        {
          "output_type": "display_data",
          "data": {
            "text/plain": [
              "<Figure size 864x288 with 1 Axes>"
            ],
            "image/png": "[encoded data removed]"
          },
          "metadata": {
            "needs_background": "light"
          }
        }
      ],
      "source": [
        "# нарисуйте пресказания\n",
        "plt.figure(figsize=(12, 4))\n",
        "plt.plot(train_ts1.day, train_ts1.nuclear_capacity, 'black', label='Previous data')\n",
        "plt.plot([train_ts1.iloc[-1, 0], train_ts1.iloc[-1, 0]], [ts1.nuclear_capacity.min(), ts1.nuclear_capacity.max()], 'grey', linestyle='--')\n",
        "plt.plot(test_ts1.day, ts1_pred_native.values, 'blue', label='Predictions')\n",
        "plt.plot(test_ts1.day, test_ts1.nuclear_capacity, 'green', linestyle=':',  label='Real data')\n",
        "plt.ylim([95000, 105000])\n",
        "plt.xlabel('Time')\n",
        "plt.ylabel('Capacity')\n",
        "plt.title('Predicted and real values of U.S. nuclear capacity, Daily')\n",
        "plt.legend()\n",
        "plt.show()"
      ]
    },
    {
      "cell_type": "markdown",
      "source": [
        "Построим также график предсказаний, полученных Prophet, несмотря на то что значение метрики получилось немного хуже."
      ],
      "metadata": {
        "id": "ysQi9kOAPwEh"
      }
    },
    {
      "cell_type": "code",
      "source": [
        "fig1 = model.plot(forecast)\n",
        "plt.plot(train_ts1.day, train_ts1.nuclear_capacity, 'black')\n",
        "\n",
        "plt.show()"
      ],
      "metadata": {
        "colab": {
          "base_uri": "https://localhost:8080/",
          "height": 441
        },
        "id": "TR7Gj8CYPGBq",
        "outputId": "fc5f84f3-2974-47f3-94ab-fd1899fbbf0e"
      },
      "execution_count": null,
      "outputs": [
        {
          "output_type": "display_data",
          "data": {
            "text/plain": [
              "<Figure size 720x432 with 1 Axes>"
            ],
            "image/png": "[encoded data removed]"
          },
          "metadata": {}
        }
      ]
    },
    {
      "cell_type": "markdown",
      "source": [
        "Видно, что модель уловила некоторые закономерности."
      ],
      "metadata": {
        "id": "sLRCoefaP_l4"
      }
    },
    {
      "cell_type": "code",
      "source": [
        "# test_ts1.nuclear_capacity.replace(test_ts1.nuclear_capacity.min(), test_ts1.nuclear_capacity.mean(), inplace=True)"
      ],
      "metadata": {
        "id": "TDVj4WedKFe5"
      },
      "execution_count": null,
      "outputs": []
    },
    {
      "cell_type": "markdown",
      "metadata": {
        "id": "i2QM9Li7aM2T"
      },
      "source": [
        "## Задание 5. Предсказание временного ряда моделями машинного обучения (1 балл).\n",
        "\n",
        "Возьмите один из ваших рядов, сформируйте по нему матрицу объект-признак и целевой вектор.\n",
        "\n",
        "Разбейте данные на train/test в той же пропорции, что разбивали в заданиях выше.\n",
        "\n",
        "Обучите различные классические модели машинного обучения и оцените их качество (MAE). \n",
        "\n",
        "Какая из моделей справилась с задачей предсказания лучше всего?"
      ]
    },
    {
      "cell_type": "markdown",
      "source": [
        "Я обучу обычную модель линейной регрессии, но сделаю это двумя способами:\n",
        "\n",
        "1. в первом случае обучу модель на векторе-признаке, указывающем на номер соответствующего месяца\n",
        "\n",
        "2. во втором случае вектором-признаком будет являться вектор с индексами строк. "
      ],
      "metadata": {
        "id": "3wW5vM5JbVeQ"
      }
    },
    {
      "cell_type": "code",
      "execution_count": null,
      "metadata": {
        "id": "2sG3v9oaaM2T"
      },
      "outputs": [],
      "source": [
        "# обучите классические модели ML\n",
        "import statsmodels.api as sm\n",
        "import statsmodels.formula.api as smf\n",
        "\n",
        "from sklearn.model_selection import train_test_split\n",
        "\n",
        "feature = pd.DataFrame(pd.to_datetime(ts2.month).dt.month)\n",
        "y = np.array(ts2.oil_imports)\n",
        "\n",
        "# первая модель\n",
        "x_train, x_test, y_train, y_test = train_test_split(feature, y, test_size=0.2, random_state=42)\n",
        "\n",
        "# построим линейную модель\n",
        "model_linear = sm.OLS(y_train, x_train).fit()"
      ]
    },
    {
      "cell_type": "code",
      "source": [
        "model_linear.summary()"
      ],
      "metadata": {
        "colab": {
          "base_uri": "https://localhost:8080/",
          "height": 440
        },
        "id": "SICEnADiXGte",
        "outputId": "8c49f59c-49d8-48a2-c54c-9e0e5d4cb204"
      },
      "execution_count": null,
      "outputs": [
        {
          "output_type": "execute_result",
          "data": {
            "text/plain": [
              "<class 'statsmodels.iolib.summary.Summary'>\n",
              "\"\"\"\n",
              "                                 OLS Regression Results                                \n",
              "=======================================================================================\n",
              "Dep. Variable:                      y   R-squared (uncentered):                   0.752\n",
              "Model:                            OLS   Adj. R-squared (uncentered):              0.750\n",
              "Method:                 Least Squares   F-statistic:                              349.5\n",
              "Date:                Sun, 24 Apr 2022   Prob (F-statistic):                    1.17e-36\n",
              "Time:                        16:16:44   Log-Likelihood:                         -1522.3\n",
              "No. Observations:                 116   AIC:                                      3047.\n",
              "Df Residuals:                     115   BIC:                                      3049.\n",
              "Df Model:                           1                                                  \n",
              "Covariance Type:            nonrobust                                                  \n",
              "==============================================================================\n",
              "                 coef    std err          t      P>|t|      [0.025      0.975]\n",
              "------------------------------------------------------------------------------\n",
              "month       2.832e+04   1514.963     18.695      0.000    2.53e+04    3.13e+04\n",
              "==============================================================================\n",
              "Omnibus:                       20.873   Durbin-Watson:                   1.493\n",
              "Prob(Omnibus):                  0.000   Jarque-Bera (JB):                5.388\n",
              "Skew:                          -0.071   Prob(JB):                       0.0676\n",
              "Kurtosis:                       1.954   Cond. No.                         1.00\n",
              "==============================================================================\n",
              "\n",
              "Notes:\n",
              "[1] R² is computed without centering (uncentered) since the model does not contain a constant.\n",
              "[2] Standard Errors assume that the covariance matrix of the errors is correctly specified.\n",
              "\"\"\""
            ],
            "text/html": [
              "<table class=\"simpletable\">\n",
              "<caption>OLS Regression Results</caption>\n",
              "<tr>\n",
              "  <th>Dep. Variable:</th>            <td>y</td>        <th>  R-squared (uncentered):</th>      <td>   0.752</td>\n",
              "</tr>\n",
              "<tr>\n",
              "  <th>Model:</th>                   <td>OLS</td>       <th>  Adj. R-squared (uncentered):</th> <td>   0.750</td>\n",
              "</tr>\n",
              "<tr>\n",
              "  <th>Method:</th>             <td>Least Squares</td>  <th>  F-statistic:       </th>          <td>   349.5</td>\n",
              "</tr>\n",
              "<tr>\n",
              "  <th>Date:</th>             <td>Sun, 24 Apr 2022</td> <th>  Prob (F-statistic):</th>          <td>1.17e-36</td>\n",
              "</tr>\n",
              "<tr>\n",
              "  <th>Time:</th>                 <td>16:16:44</td>     <th>  Log-Likelihood:    </th>          <td> -1522.3</td>\n",
              "</tr>\n",
              "<tr>\n",
              "  <th>No. Observations:</th>      <td>   116</td>      <th>  AIC:               </th>          <td>   3047.</td>\n",
              "</tr>\n",
              "<tr>\n",
              "  <th>Df Residuals:</th>          <td>   115</td>      <th>  BIC:               </th>          <td>   3049.</td>\n",
              "</tr>\n",
              "<tr>\n",
              "  <th>Df Model:</th>              <td>     1</td>      <th>                     </th>              <td> </td>   \n",
              "</tr>\n",
              "<tr>\n",
              "  <th>Covariance Type:</th>      <td>nonrobust</td>    <th>                     </th>              <td> </td>   \n",
              "</tr>\n",
              "</table>\n",
              "<table class=\"simpletable\">\n",
              "<tr>\n",
              "    <td></td>       <th>coef</th>     <th>std err</th>      <th>t</th>      <th>P>|t|</th>  <th>[0.025</th>    <th>0.975]</th>  \n",
              "</tr>\n",
              "<tr>\n",
              "  <th>month</th> <td> 2.832e+04</td> <td> 1514.963</td> <td>   18.695</td> <td> 0.000</td> <td> 2.53e+04</td> <td> 3.13e+04</td>\n",
              "</tr>\n",
              "</table>\n",
              "<table class=\"simpletable\">\n",
              "<tr>\n",
              "  <th>Omnibus:</th>       <td>20.873</td> <th>  Durbin-Watson:     </th> <td>   1.493</td>\n",
              "</tr>\n",
              "<tr>\n",
              "  <th>Prob(Omnibus):</th> <td> 0.000</td> <th>  Jarque-Bera (JB):  </th> <td>   5.388</td>\n",
              "</tr>\n",
              "<tr>\n",
              "  <th>Skew:</th>          <td>-0.071</td> <th>  Prob(JB):          </th> <td>  0.0676</td>\n",
              "</tr>\n",
              "<tr>\n",
              "  <th>Kurtosis:</th>      <td> 1.954</td> <th>  Cond. No.          </th> <td>    1.00</td>\n",
              "</tr>\n",
              "</table><br/><br/>Notes:<br/>[1] R² is computed without centering (uncentered) since the model does not contain a constant.<br/>[2] Standard Errors assume that the covariance matrix of the errors is correctly specified."
            ]
          },
          "metadata": {},
          "execution_count": 269
        }
      ]
    },
    {
      "cell_type": "code",
      "source": [
        "model_linear_pred = model_linear.predict(y_test)\n",
        "model_linear_mae = mean_absolute_error(y_test, model_linear_pred)\n",
        "model_linear_mae "
      ],
      "metadata": {
        "colab": {
          "base_uri": "https://localhost:8080/"
        },
        "id": "jHUcOqnpXGbP",
        "outputId": "4233c4a7-731c-4d2c-ad5c-66657b23c112"
      },
      "execution_count": null,
      "outputs": [
        {
          "output_type": "execute_result",
          "data": {
            "text/plain": [
              "6825272187.366173"
            ]
          },
          "metadata": {},
          "execution_count": 275
        }
      ]
    },
    {
      "cell_type": "code",
      "source": [
        "plt.figure(figsize=(12, 4))\n",
        "plt.plot(y_test, label='True values')\n",
        "plt.plot(model_linear_pred, label='Forcasted values')\n",
        "plt.xlabel('Month')\n",
        "plt.ylabel('Oil imports')\n",
        "plt.title('Forcast of oil imports vs real data')\n",
        "plt.legend()\n",
        "\n",
        "plt.show()"
      ],
      "metadata": {
        "colab": {
          "base_uri": "https://localhost:8080/",
          "height": 295
        },
        "id": "fvbdjzStYUVQ",
        "outputId": "f8297c90-ebd4-4a82-c1cc-4866e8ca7bf1"
      },
      "execution_count": null,
      "outputs": [
        {
          "output_type": "display_data",
          "data": {
            "text/plain": [
              "<Figure size 864x288 with 1 Axes>"
            ],
            "image/png": "[encoded data removed]"
          },
          "metadata": {
            "needs_background": "light"
          }
        }
      ]
    },
    {
      "cell_type": "code",
      "source": [
        "# вторая модель\n",
        "model_linear_idx = sm.OLS(y_train, x_train.index.values).fit()"
      ],
      "metadata": {
        "id": "5pLfAWnXU_Ig"
      },
      "execution_count": null,
      "outputs": []
    },
    {
      "cell_type": "code",
      "source": [
        "model_linear_idx.summary()"
      ],
      "metadata": {
        "colab": {
          "base_uri": "https://localhost:8080/",
          "height": 440
        },
        "id": "9CI-4ZRRXLXH",
        "outputId": "4d3d822c-f60a-4603-ce05-f1b452d5f7d6"
      },
      "execution_count": null,
      "outputs": [
        {
          "output_type": "execute_result",
          "data": {
            "text/plain": [
              "<class 'statsmodels.iolib.summary.Summary'>\n",
              "\"\"\"\n",
              "                                 OLS Regression Results                                \n",
              "=======================================================================================\n",
              "Dep. Variable:                      y   R-squared (uncentered):                   0.628\n",
              "Model:                            OLS   Adj. R-squared (uncentered):              0.625\n",
              "Method:                 Least Squares   F-statistic:                              194.3\n",
              "Date:                Sun, 24 Apr 2022   Prob (F-statistic):                    1.82e-26\n",
              "Time:                        16:28:07   Log-Likelihood:                         -1545.8\n",
              "No. Observations:                 116   AIC:                                      3094.\n",
              "Df Residuals:                     115   BIC:                                      3096.\n",
              "Df Model:                           1                                                  \n",
              "Covariance Type:            nonrobust                                                  \n",
              "==============================================================================\n",
              "                 coef    std err          t      P>|t|      [0.025      0.975]\n",
              "------------------------------------------------------------------------------\n",
              "x1          2334.2789    167.442     13.941      0.000    2002.609    2665.949\n",
              "==============================================================================\n",
              "Omnibus:                       13.577   Durbin-Watson:                   1.594\n",
              "Prob(Omnibus):                  0.001   Jarque-Bera (JB):                4.347\n",
              "Skew:                           0.002   Prob(JB):                        0.114\n",
              "Kurtosis:                       2.052   Cond. No.                         1.00\n",
              "==============================================================================\n",
              "\n",
              "Notes:\n",
              "[1] R² is computed without centering (uncentered) since the model does not contain a constant.\n",
              "[2] Standard Errors assume that the covariance matrix of the errors is correctly specified.\n",
              "\"\"\""
            ],
            "text/html": [
              "<table class=\"simpletable\">\n",
              "<caption>OLS Regression Results</caption>\n",
              "<tr>\n",
              "  <th>Dep. Variable:</th>            <td>y</td>        <th>  R-squared (uncentered):</th>      <td>   0.628</td>\n",
              "</tr>\n",
              "<tr>\n",
              "  <th>Model:</th>                   <td>OLS</td>       <th>  Adj. R-squared (uncentered):</th> <td>   0.625</td>\n",
              "</tr>\n",
              "<tr>\n",
              "  <th>Method:</th>             <td>Least Squares</td>  <th>  F-statistic:       </th>          <td>   194.3</td>\n",
              "</tr>\n",
              "<tr>\n",
              "  <th>Date:</th>             <td>Sun, 24 Apr 2022</td> <th>  Prob (F-statistic):</th>          <td>1.82e-26</td>\n",
              "</tr>\n",
              "<tr>\n",
              "  <th>Time:</th>                 <td>16:28:07</td>     <th>  Log-Likelihood:    </th>          <td> -1545.8</td>\n",
              "</tr>\n",
              "<tr>\n",
              "  <th>No. Observations:</th>      <td>   116</td>      <th>  AIC:               </th>          <td>   3094.</td>\n",
              "</tr>\n",
              "<tr>\n",
              "  <th>Df Residuals:</th>          <td>   115</td>      <th>  BIC:               </th>          <td>   3096.</td>\n",
              "</tr>\n",
              "<tr>\n",
              "  <th>Df Model:</th>              <td>     1</td>      <th>                     </th>              <td> </td>   \n",
              "</tr>\n",
              "<tr>\n",
              "  <th>Covariance Type:</th>      <td>nonrobust</td>    <th>                     </th>              <td> </td>   \n",
              "</tr>\n",
              "</table>\n",
              "<table class=\"simpletable\">\n",
              "<tr>\n",
              "   <td></td>     <th>coef</th>     <th>std err</th>      <th>t</th>      <th>P>|t|</th>  <th>[0.025</th>    <th>0.975]</th>  \n",
              "</tr>\n",
              "<tr>\n",
              "  <th>x1</th> <td> 2334.2789</td> <td>  167.442</td> <td>   13.941</td> <td> 0.000</td> <td> 2002.609</td> <td> 2665.949</td>\n",
              "</tr>\n",
              "</table>\n",
              "<table class=\"simpletable\">\n",
              "<tr>\n",
              "  <th>Omnibus:</th>       <td>13.577</td> <th>  Durbin-Watson:     </th> <td>   1.594</td>\n",
              "</tr>\n",
              "<tr>\n",
              "  <th>Prob(Omnibus):</th> <td> 0.001</td> <th>  Jarque-Bera (JB):  </th> <td>   4.347</td>\n",
              "</tr>\n",
              "<tr>\n",
              "  <th>Skew:</th>          <td> 0.002</td> <th>  Prob(JB):          </th> <td>   0.114</td>\n",
              "</tr>\n",
              "<tr>\n",
              "  <th>Kurtosis:</th>      <td> 2.052</td> <th>  Cond. No.          </th> <td>    1.00</td>\n",
              "</tr>\n",
              "</table><br/><br/>Notes:<br/>[1] R² is computed without centering (uncentered) since the model does not contain a constant.<br/>[2] Standard Errors assume that the covariance matrix of the errors is correctly specified."
            ]
          },
          "metadata": {},
          "execution_count": 282
        }
      ]
    },
    {
      "cell_type": "code",
      "source": [
        "model_linear_idx_pred = model_linear_idx.predict(y_test)\n",
        "model_linear_idx_mae = mean_absolute_error(y_test, model_linear_idx_pred)\n",
        "model_linear_idx_mae"
      ],
      "metadata": {
        "colab": {
          "base_uri": "https://localhost:8080/"
        },
        "id": "ogDQ9qlBZxg5",
        "outputId": "4b615532-c6cf-4b94-e239-e16a32bea964"
      },
      "execution_count": null,
      "outputs": [
        {
          "output_type": "execute_result",
          "data": {
            "text/plain": [
              "562314904.6540028"
            ]
          },
          "metadata": {},
          "execution_count": 283
        }
      ]
    },
    {
      "cell_type": "code",
      "source": [
        "plt.figure(figsize=(12, 4))\n",
        "plt.plot(y_test, label='True values')\n",
        "plt.plot(model_linear_idx_pred, label='Forcasted values')\n",
        "plt.xlabel('Month')\n",
        "plt.ylabel('Oil imports')\n",
        "plt.title('Forcast of oil imports vs real data')\n",
        "plt.legend()\n",
        "\n",
        "plt.show()"
      ],
      "metadata": {
        "colab": {
          "base_uri": "https://localhost:8080/",
          "height": 295
        },
        "id": "5hPXElgaZ7kL",
        "outputId": "e1a4ed8d-e565-4ff6-f0b4-47718600a651"
      },
      "execution_count": null,
      "outputs": [
        {
          "output_type": "display_data",
          "data": {
            "text/plain": [
              "<Figure size 864x288 with 1 Axes>"
            ],
            "image/png": "[encoded data removed]"
          },
          "metadata": {
            "needs_background": "light"
          }
        }
      ]
    },
    {
      "cell_type": "markdown",
      "source": [
        "Из графиков и соответствующих значений метрики очевидно, что модели плохо справились со своей задачей, а точнее, не справились вовсе. Лучшими для данной задачи и выбранных в начале работы данных остаются специализированные модели."
      ],
      "metadata": {
        "id": "tkM8aXjAcWii"
      }
    },
    {
      "cell_type": "markdown",
      "metadata": {
        "id": "fUs_-aYFqZMv"
      },
      "source": [
        "## Бонус. Напишите свою модель на STAN (3 балла).\n",
        "\n",
        "Разработайте и испытайте свою модель для месячного ряда в STAN.\n",
        "\n",
        "Сравните качество прогнозов с наивной сезонной моделью на тестовой выборке с помощью MAE. \n",
        "\n",
        "Комментарий: итоговый балл за домашнее задание ставится по формуле минимум(10, ваш суммарный балл за задания)."
      ]
    },
    {
      "cell_type": "code",
      "execution_count": null,
      "metadata": {
        "id": "nC-PRk4eqqqO"
      },
      "outputs": [],
      "source": [
        "# ваш код модели на STAN и её обучения здесь"
      ]
    },
    {
      "cell_type": "code",
      "execution_count": null,
      "metadata": {
        "id": "qssr0cPrqvS_"
      },
      "outputs": [],
      "source": [
        "# посчитайте метрики на test"
      ]
    },
    {
      "cell_type": "code",
      "execution_count": null,
      "metadata": {
        "id": "GgaAFZAyqwhY"
      },
      "outputs": [],
      "source": [
        "# нарисуйте предсказания"
      ]
    },
    {
      "cell_type": "code",
      "execution_count": null,
      "metadata": {
        "id": "IbyvJ-wsaM2W"
      },
      "outputs": [],
      "source": []
    }
  ],
  "metadata": {
    "colab": {
      "provenance": []
    },
    "kernelspec": {
      "display_name": "Python 3",
      "language": "python",
      "name": "python3"
    },
    "language_info": {
      "codemirror_mode": {
        "name": "ipython",
        "version": 3
      },
      "file_extension": ".py",
      "mimetype": "text/x-python",
      "name": "python",
      "nbconvert_exporter": "python",
      "pygments_lexer": "ipython3",
      "version": "3.7.6"
    }
  },
  "nbformat": 4,
  "nbformat_minor": 0
}